{
  "nbformat": 4,
  "nbformat_minor": 0,
  "metadata": {
    "colab": {
      "provenance": [],
      "authorship_tag": "ABX9TyOOc85p1rPvJIk7ytJQhlim",
      "include_colab_link": true
    },
    "kernelspec": {
      "name": "python3",
      "display_name": "Python 3"
    },
    "language_info": {
      "name": "python"
    }
  },
  "cells": [
    {
      "cell_type": "markdown",
      "metadata": {
        "id": "view-in-github",
        "colab_type": "text"
      },
      "source": [
        "<a href=\"https://colab.research.google.com/github/GabyDs/EjerciciosInteligenciaComputacional/blob/main/Experiencia2.ipynb\" target=\"_parent\"><img src=\"https://colab.research.google.com/assets/colab-badge.svg\" alt=\"Open In Colab\"/></a>"
      ]
    },
    {
      "cell_type": "code",
      "execution_count": 1088,
      "metadata": {
        "id": "Q_WcRpomIn--"
      },
      "outputs": [],
      "source": [
        "# Importación, visualización, manipulación de datos\n",
        "import pandas as pd\n",
        "import seaborn as sns\n",
        "import matplotlib.pyplot as plt\n",
        "import numpy as np\n",
        "\n",
        "# Transformación de datos\n",
        "from sklearn.model_selection import train_test_split\n",
        "from sklearn.preprocessing import LabelEncoder, StandardScaler\n",
        "\n",
        "# Métricas y desempeño\n",
        "from sklearn.metrics import classification_report\n",
        "from sklearn.metrics import accuracy_score\n",
        "from sklearn.metrics import f1_score, precision_score, recall_score, accuracy_score, roc_auc_score, matthews_corrcoef # Diferentes métricas, hay más. Según el problema conviene mirar alguna o varias\n",
        "from sklearn.metrics import confusion_matrix, ConfusionMatrixDisplay # Grafica Matrix de confusión\n",
        "\n",
        "from sklearn.linear_model import LogisticRegression\n",
        "from sklearn.tree import DecisionTreeClassifier\n",
        "from sklearn.ensemble import RandomForestClassifier\n",
        "from sklearn.neighbors import KNeighborsClassifier\n",
        "from sklearn.preprocessing import LabelEncoder\n",
        "from sklearn.neural_network import MLPClassifier # Multi-layer Perceptron classifier\n",
        "from xgboost import XGBClassifier\n",
        "\n",
        "import time"
      ]
    },
    {
      "cell_type": "code",
      "source": [
        "dataset = pd.read_csv(\"datos_acv.csv\")"
      ],
      "metadata": {
        "id": "2eUjboDNKJnt"
      },
      "execution_count": 1089,
      "outputs": []
    },
    {
      "cell_type": "markdown",
      "source": [
        "# Exploracion de los datos"
      ],
      "metadata": {
        "id": "XwEOvEo7RhcF"
      }
    },
    {
      "cell_type": "code",
      "source": [
        "dataset.head()"
      ],
      "metadata": {
        "colab": {
          "base_uri": "https://localhost:8080/",
          "height": 270
        },
        "id": "dmZ5wKJyKOEJ",
        "outputId": "3d98e9ce-3c3d-4011-db8d-cf933f8b1c97"
      },
      "execution_count": 1090,
      "outputs": [
        {
          "output_type": "execute_result",
          "data": {
            "text/plain": [
              "      id  genero  edad  hipertension  enfermedad_corazon  casado_alguna_vez  \\\n",
              "0   9046  hombre  67.0             0                   1                  1   \n",
              "1  51676   mujer  61.0             0                   0                  1   \n",
              "2  31112  hombre  80.0             0                   1                  1   \n",
              "3  60182   mujer  49.0             0                   0                  1   \n",
              "4   1665   mujer  79.0             1                   0                  1   \n",
              "\n",
              "  tipo_trabajo tipo_residencia  nivel_glucosa   imc estado_fumador  apoplejia  \n",
              "0      privado          urbano         228.69  36.6         fumaba          1  \n",
              "1     autonomo           rural         202.21   NaN          nunca          1  \n",
              "2      privado           rural         105.92  32.5          nunca          1  \n",
              "3      privado          urbano         171.23  34.4           fuma          1  \n",
              "4     autonomo           rural         174.12  24.0          nunca          1  "
            ],
            "text/html": [
              "\n",
              "  <div id=\"df-3cea34d3-0bbf-4249-9f84-ccf8b2cbde21\">\n",
              "    <div class=\"colab-df-container\">\n",
              "      <div>\n",
              "<style scoped>\n",
              "    .dataframe tbody tr th:only-of-type {\n",
              "        vertical-align: middle;\n",
              "    }\n",
              "\n",
              "    .dataframe tbody tr th {\n",
              "        vertical-align: top;\n",
              "    }\n",
              "\n",
              "    .dataframe thead th {\n",
              "        text-align: right;\n",
              "    }\n",
              "</style>\n",
              "<table border=\"1\" class=\"dataframe\">\n",
              "  <thead>\n",
              "    <tr style=\"text-align: right;\">\n",
              "      <th></th>\n",
              "      <th>id</th>\n",
              "      <th>genero</th>\n",
              "      <th>edad</th>\n",
              "      <th>hipertension</th>\n",
              "      <th>enfermedad_corazon</th>\n",
              "      <th>casado_alguna_vez</th>\n",
              "      <th>tipo_trabajo</th>\n",
              "      <th>tipo_residencia</th>\n",
              "      <th>nivel_glucosa</th>\n",
              "      <th>imc</th>\n",
              "      <th>estado_fumador</th>\n",
              "      <th>apoplejia</th>\n",
              "    </tr>\n",
              "  </thead>\n",
              "  <tbody>\n",
              "    <tr>\n",
              "      <th>0</th>\n",
              "      <td>9046</td>\n",
              "      <td>hombre</td>\n",
              "      <td>67.0</td>\n",
              "      <td>0</td>\n",
              "      <td>1</td>\n",
              "      <td>1</td>\n",
              "      <td>privado</td>\n",
              "      <td>urbano</td>\n",
              "      <td>228.69</td>\n",
              "      <td>36.6</td>\n",
              "      <td>fumaba</td>\n",
              "      <td>1</td>\n",
              "    </tr>\n",
              "    <tr>\n",
              "      <th>1</th>\n",
              "      <td>51676</td>\n",
              "      <td>mujer</td>\n",
              "      <td>61.0</td>\n",
              "      <td>0</td>\n",
              "      <td>0</td>\n",
              "      <td>1</td>\n",
              "      <td>autonomo</td>\n",
              "      <td>rural</td>\n",
              "      <td>202.21</td>\n",
              "      <td>NaN</td>\n",
              "      <td>nunca</td>\n",
              "      <td>1</td>\n",
              "    </tr>\n",
              "    <tr>\n",
              "      <th>2</th>\n",
              "      <td>31112</td>\n",
              "      <td>hombre</td>\n",
              "      <td>80.0</td>\n",
              "      <td>0</td>\n",
              "      <td>1</td>\n",
              "      <td>1</td>\n",
              "      <td>privado</td>\n",
              "      <td>rural</td>\n",
              "      <td>105.92</td>\n",
              "      <td>32.5</td>\n",
              "      <td>nunca</td>\n",
              "      <td>1</td>\n",
              "    </tr>\n",
              "    <tr>\n",
              "      <th>3</th>\n",
              "      <td>60182</td>\n",
              "      <td>mujer</td>\n",
              "      <td>49.0</td>\n",
              "      <td>0</td>\n",
              "      <td>0</td>\n",
              "      <td>1</td>\n",
              "      <td>privado</td>\n",
              "      <td>urbano</td>\n",
              "      <td>171.23</td>\n",
              "      <td>34.4</td>\n",
              "      <td>fuma</td>\n",
              "      <td>1</td>\n",
              "    </tr>\n",
              "    <tr>\n",
              "      <th>4</th>\n",
              "      <td>1665</td>\n",
              "      <td>mujer</td>\n",
              "      <td>79.0</td>\n",
              "      <td>1</td>\n",
              "      <td>0</td>\n",
              "      <td>1</td>\n",
              "      <td>autonomo</td>\n",
              "      <td>rural</td>\n",
              "      <td>174.12</td>\n",
              "      <td>24.0</td>\n",
              "      <td>nunca</td>\n",
              "      <td>1</td>\n",
              "    </tr>\n",
              "  </tbody>\n",
              "</table>\n",
              "</div>\n",
              "      <button class=\"colab-df-convert\" onclick=\"convertToInteractive('df-3cea34d3-0bbf-4249-9f84-ccf8b2cbde21')\"\n",
              "              title=\"Convert this dataframe to an interactive table.\"\n",
              "              style=\"display:none;\">\n",
              "        \n",
              "  <svg xmlns=\"http://www.w3.org/2000/svg\" height=\"24px\"viewBox=\"0 0 24 24\"\n",
              "       width=\"24px\">\n",
              "    <path d=\"M0 0h24v24H0V0z\" fill=\"none\"/>\n",
              "    <path d=\"M18.56 5.44l.94 2.06.94-2.06 2.06-.94-2.06-.94-.94-2.06-.94 2.06-2.06.94zm-11 1L8.5 8.5l.94-2.06 2.06-.94-2.06-.94L8.5 2.5l-.94 2.06-2.06.94zm10 10l.94 2.06.94-2.06 2.06-.94-2.06-.94-.94-2.06-.94 2.06-2.06.94z\"/><path d=\"M17.41 7.96l-1.37-1.37c-.4-.4-.92-.59-1.43-.59-.52 0-1.04.2-1.43.59L10.3 9.45l-7.72 7.72c-.78.78-.78 2.05 0 2.83L4 21.41c.39.39.9.59 1.41.59.51 0 1.02-.2 1.41-.59l7.78-7.78 2.81-2.81c.8-.78.8-2.07 0-2.86zM5.41 20L4 18.59l7.72-7.72 1.47 1.35L5.41 20z\"/>\n",
              "  </svg>\n",
              "      </button>\n",
              "      \n",
              "  <style>\n",
              "    .colab-df-container {\n",
              "      display:flex;\n",
              "      flex-wrap:wrap;\n",
              "      gap: 12px;\n",
              "    }\n",
              "\n",
              "    .colab-df-convert {\n",
              "      background-color: #E8F0FE;\n",
              "      border: none;\n",
              "      border-radius: 50%;\n",
              "      cursor: pointer;\n",
              "      display: none;\n",
              "      fill: #1967D2;\n",
              "      height: 32px;\n",
              "      padding: 0 0 0 0;\n",
              "      width: 32px;\n",
              "    }\n",
              "\n",
              "    .colab-df-convert:hover {\n",
              "      background-color: #E2EBFA;\n",
              "      box-shadow: 0px 1px 2px rgba(60, 64, 67, 0.3), 0px 1px 3px 1px rgba(60, 64, 67, 0.15);\n",
              "      fill: #174EA6;\n",
              "    }\n",
              "\n",
              "    [theme=dark] .colab-df-convert {\n",
              "      background-color: #3B4455;\n",
              "      fill: #D2E3FC;\n",
              "    }\n",
              "\n",
              "    [theme=dark] .colab-df-convert:hover {\n",
              "      background-color: #434B5C;\n",
              "      box-shadow: 0px 1px 3px 1px rgba(0, 0, 0, 0.15);\n",
              "      filter: drop-shadow(0px 1px 2px rgba(0, 0, 0, 0.3));\n",
              "      fill: #FFFFFF;\n",
              "    }\n",
              "  </style>\n",
              "\n",
              "      <script>\n",
              "        const buttonEl =\n",
              "          document.querySelector('#df-3cea34d3-0bbf-4249-9f84-ccf8b2cbde21 button.colab-df-convert');\n",
              "        buttonEl.style.display =\n",
              "          google.colab.kernel.accessAllowed ? 'block' : 'none';\n",
              "\n",
              "        async function convertToInteractive(key) {\n",
              "          const element = document.querySelector('#df-3cea34d3-0bbf-4249-9f84-ccf8b2cbde21');\n",
              "          const dataTable =\n",
              "            await google.colab.kernel.invokeFunction('convertToInteractive',\n",
              "                                                     [key], {});\n",
              "          if (!dataTable) return;\n",
              "\n",
              "          const docLinkHtml = 'Like what you see? Visit the ' +\n",
              "            '<a target=\"_blank\" href=https://colab.research.google.com/notebooks/data_table.ipynb>data table notebook</a>'\n",
              "            + ' to learn more about interactive tables.';\n",
              "          element.innerHTML = '';\n",
              "          dataTable['output_type'] = 'display_data';\n",
              "          await google.colab.output.renderOutput(dataTable, element);\n",
              "          const docLink = document.createElement('div');\n",
              "          docLink.innerHTML = docLinkHtml;\n",
              "          element.appendChild(docLink);\n",
              "        }\n",
              "      </script>\n",
              "    </div>\n",
              "  </div>\n",
              "  "
            ]
          },
          "metadata": {},
          "execution_count": 1090
        }
      ]
    },
    {
      "cell_type": "code",
      "source": [
        "dataset.tail()"
      ],
      "metadata": {
        "colab": {
          "base_uri": "https://localhost:8080/",
          "height": 270
        },
        "id": "-1qb_MN0KP4g",
        "outputId": "137eb695-23ff-4a40-a4d4-fdafc1bd457c"
      },
      "execution_count": 1091,
      "outputs": [
        {
          "output_type": "execute_result",
          "data": {
            "text/plain": [
              "         id  genero  edad  hipertension  enfermedad_corazon  \\\n",
              "5105  18234   mujer  80.0             1                   0   \n",
              "5106  44873   mujer  81.0             0                   0   \n",
              "5107  19723   mujer  35.0             0                   0   \n",
              "5108  37544  hombre  51.0             0                   0   \n",
              "5109  44679   mujer  44.0             0                   0   \n",
              "\n",
              "      casado_alguna_vez   tipo_trabajo tipo_residencia  nivel_glucosa   imc  \\\n",
              "5105                  1        privado          urbano          83.75   NaN   \n",
              "5106                  1       autonomo          urbano         125.20  40.0   \n",
              "5107                  1       autonomo           rural          82.99  30.6   \n",
              "5108                  1        privado           rural         166.29  25.6   \n",
              "5109                  1  gubernamental          urbano          85.28  26.2   \n",
              "\n",
              "     estado_fumador  apoplejia  \n",
              "5105          nunca          0  \n",
              "5106          nunca          0  \n",
              "5107          nunca          0  \n",
              "5108         fumaba          0  \n",
              "5109    desconocido          0  "
            ],
            "text/html": [
              "\n",
              "  <div id=\"df-e75e4997-9be9-4bb8-b86a-5d3a17c8e83b\">\n",
              "    <div class=\"colab-df-container\">\n",
              "      <div>\n",
              "<style scoped>\n",
              "    .dataframe tbody tr th:only-of-type {\n",
              "        vertical-align: middle;\n",
              "    }\n",
              "\n",
              "    .dataframe tbody tr th {\n",
              "        vertical-align: top;\n",
              "    }\n",
              "\n",
              "    .dataframe thead th {\n",
              "        text-align: right;\n",
              "    }\n",
              "</style>\n",
              "<table border=\"1\" class=\"dataframe\">\n",
              "  <thead>\n",
              "    <tr style=\"text-align: right;\">\n",
              "      <th></th>\n",
              "      <th>id</th>\n",
              "      <th>genero</th>\n",
              "      <th>edad</th>\n",
              "      <th>hipertension</th>\n",
              "      <th>enfermedad_corazon</th>\n",
              "      <th>casado_alguna_vez</th>\n",
              "      <th>tipo_trabajo</th>\n",
              "      <th>tipo_residencia</th>\n",
              "      <th>nivel_glucosa</th>\n",
              "      <th>imc</th>\n",
              "      <th>estado_fumador</th>\n",
              "      <th>apoplejia</th>\n",
              "    </tr>\n",
              "  </thead>\n",
              "  <tbody>\n",
              "    <tr>\n",
              "      <th>5105</th>\n",
              "      <td>18234</td>\n",
              "      <td>mujer</td>\n",
              "      <td>80.0</td>\n",
              "      <td>1</td>\n",
              "      <td>0</td>\n",
              "      <td>1</td>\n",
              "      <td>privado</td>\n",
              "      <td>urbano</td>\n",
              "      <td>83.75</td>\n",
              "      <td>NaN</td>\n",
              "      <td>nunca</td>\n",
              "      <td>0</td>\n",
              "    </tr>\n",
              "    <tr>\n",
              "      <th>5106</th>\n",
              "      <td>44873</td>\n",
              "      <td>mujer</td>\n",
              "      <td>81.0</td>\n",
              "      <td>0</td>\n",
              "      <td>0</td>\n",
              "      <td>1</td>\n",
              "      <td>autonomo</td>\n",
              "      <td>urbano</td>\n",
              "      <td>125.20</td>\n",
              "      <td>40.0</td>\n",
              "      <td>nunca</td>\n",
              "      <td>0</td>\n",
              "    </tr>\n",
              "    <tr>\n",
              "      <th>5107</th>\n",
              "      <td>19723</td>\n",
              "      <td>mujer</td>\n",
              "      <td>35.0</td>\n",
              "      <td>0</td>\n",
              "      <td>0</td>\n",
              "      <td>1</td>\n",
              "      <td>autonomo</td>\n",
              "      <td>rural</td>\n",
              "      <td>82.99</td>\n",
              "      <td>30.6</td>\n",
              "      <td>nunca</td>\n",
              "      <td>0</td>\n",
              "    </tr>\n",
              "    <tr>\n",
              "      <th>5108</th>\n",
              "      <td>37544</td>\n",
              "      <td>hombre</td>\n",
              "      <td>51.0</td>\n",
              "      <td>0</td>\n",
              "      <td>0</td>\n",
              "      <td>1</td>\n",
              "      <td>privado</td>\n",
              "      <td>rural</td>\n",
              "      <td>166.29</td>\n",
              "      <td>25.6</td>\n",
              "      <td>fumaba</td>\n",
              "      <td>0</td>\n",
              "    </tr>\n",
              "    <tr>\n",
              "      <th>5109</th>\n",
              "      <td>44679</td>\n",
              "      <td>mujer</td>\n",
              "      <td>44.0</td>\n",
              "      <td>0</td>\n",
              "      <td>0</td>\n",
              "      <td>1</td>\n",
              "      <td>gubernamental</td>\n",
              "      <td>urbano</td>\n",
              "      <td>85.28</td>\n",
              "      <td>26.2</td>\n",
              "      <td>desconocido</td>\n",
              "      <td>0</td>\n",
              "    </tr>\n",
              "  </tbody>\n",
              "</table>\n",
              "</div>\n",
              "      <button class=\"colab-df-convert\" onclick=\"convertToInteractive('df-e75e4997-9be9-4bb8-b86a-5d3a17c8e83b')\"\n",
              "              title=\"Convert this dataframe to an interactive table.\"\n",
              "              style=\"display:none;\">\n",
              "        \n",
              "  <svg xmlns=\"http://www.w3.org/2000/svg\" height=\"24px\"viewBox=\"0 0 24 24\"\n",
              "       width=\"24px\">\n",
              "    <path d=\"M0 0h24v24H0V0z\" fill=\"none\"/>\n",
              "    <path d=\"M18.56 5.44l.94 2.06.94-2.06 2.06-.94-2.06-.94-.94-2.06-.94 2.06-2.06.94zm-11 1L8.5 8.5l.94-2.06 2.06-.94-2.06-.94L8.5 2.5l-.94 2.06-2.06.94zm10 10l.94 2.06.94-2.06 2.06-.94-2.06-.94-.94-2.06-.94 2.06-2.06.94z\"/><path d=\"M17.41 7.96l-1.37-1.37c-.4-.4-.92-.59-1.43-.59-.52 0-1.04.2-1.43.59L10.3 9.45l-7.72 7.72c-.78.78-.78 2.05 0 2.83L4 21.41c.39.39.9.59 1.41.59.51 0 1.02-.2 1.41-.59l7.78-7.78 2.81-2.81c.8-.78.8-2.07 0-2.86zM5.41 20L4 18.59l7.72-7.72 1.47 1.35L5.41 20z\"/>\n",
              "  </svg>\n",
              "      </button>\n",
              "      \n",
              "  <style>\n",
              "    .colab-df-container {\n",
              "      display:flex;\n",
              "      flex-wrap:wrap;\n",
              "      gap: 12px;\n",
              "    }\n",
              "\n",
              "    .colab-df-convert {\n",
              "      background-color: #E8F0FE;\n",
              "      border: none;\n",
              "      border-radius: 50%;\n",
              "      cursor: pointer;\n",
              "      display: none;\n",
              "      fill: #1967D2;\n",
              "      height: 32px;\n",
              "      padding: 0 0 0 0;\n",
              "      width: 32px;\n",
              "    }\n",
              "\n",
              "    .colab-df-convert:hover {\n",
              "      background-color: #E2EBFA;\n",
              "      box-shadow: 0px 1px 2px rgba(60, 64, 67, 0.3), 0px 1px 3px 1px rgba(60, 64, 67, 0.15);\n",
              "      fill: #174EA6;\n",
              "    }\n",
              "\n",
              "    [theme=dark] .colab-df-convert {\n",
              "      background-color: #3B4455;\n",
              "      fill: #D2E3FC;\n",
              "    }\n",
              "\n",
              "    [theme=dark] .colab-df-convert:hover {\n",
              "      background-color: #434B5C;\n",
              "      box-shadow: 0px 1px 3px 1px rgba(0, 0, 0, 0.15);\n",
              "      filter: drop-shadow(0px 1px 2px rgba(0, 0, 0, 0.3));\n",
              "      fill: #FFFFFF;\n",
              "    }\n",
              "  </style>\n",
              "\n",
              "      <script>\n",
              "        const buttonEl =\n",
              "          document.querySelector('#df-e75e4997-9be9-4bb8-b86a-5d3a17c8e83b button.colab-df-convert');\n",
              "        buttonEl.style.display =\n",
              "          google.colab.kernel.accessAllowed ? 'block' : 'none';\n",
              "\n",
              "        async function convertToInteractive(key) {\n",
              "          const element = document.querySelector('#df-e75e4997-9be9-4bb8-b86a-5d3a17c8e83b');\n",
              "          const dataTable =\n",
              "            await google.colab.kernel.invokeFunction('convertToInteractive',\n",
              "                                                     [key], {});\n",
              "          if (!dataTable) return;\n",
              "\n",
              "          const docLinkHtml = 'Like what you see? Visit the ' +\n",
              "            '<a target=\"_blank\" href=https://colab.research.google.com/notebooks/data_table.ipynb>data table notebook</a>'\n",
              "            + ' to learn more about interactive tables.';\n",
              "          element.innerHTML = '';\n",
              "          dataTable['output_type'] = 'display_data';\n",
              "          await google.colab.output.renderOutput(dataTable, element);\n",
              "          const docLink = document.createElement('div');\n",
              "          docLink.innerHTML = docLinkHtml;\n",
              "          element.appendChild(docLink);\n",
              "        }\n",
              "      </script>\n",
              "    </div>\n",
              "  </div>\n",
              "  "
            ]
          },
          "metadata": {},
          "execution_count": 1091
        }
      ]
    },
    {
      "cell_type": "code",
      "source": [
        "dataset.info()"
      ],
      "metadata": {
        "colab": {
          "base_uri": "https://localhost:8080/"
        },
        "id": "b4Wr7Pu2KR0H",
        "outputId": "4110b20a-ce72-4bb4-9e28-f110979407f2"
      },
      "execution_count": 1092,
      "outputs": [
        {
          "output_type": "stream",
          "name": "stdout",
          "text": [
            "<class 'pandas.core.frame.DataFrame'>\n",
            "RangeIndex: 5110 entries, 0 to 5109\n",
            "Data columns (total 12 columns):\n",
            " #   Column              Non-Null Count  Dtype  \n",
            "---  ------              --------------  -----  \n",
            " 0   id                  5110 non-null   int64  \n",
            " 1   genero              5110 non-null   object \n",
            " 2   edad                5110 non-null   float64\n",
            " 3   hipertension        5110 non-null   int64  \n",
            " 4   enfermedad_corazon  5110 non-null   int64  \n",
            " 5   casado_alguna_vez   5110 non-null   int64  \n",
            " 6   tipo_trabajo        5110 non-null   object \n",
            " 7   tipo_residencia     5110 non-null   object \n",
            " 8   nivel_glucosa       5110 non-null   float64\n",
            " 9   imc                 4909 non-null   float64\n",
            " 10  estado_fumador      5110 non-null   object \n",
            " 11  apoplejia           5110 non-null   int64  \n",
            "dtypes: float64(3), int64(5), object(4)\n",
            "memory usage: 479.2+ KB\n"
          ]
        }
      ]
    },
    {
      "cell_type": "markdown",
      "source": [
        "Vemos que hay atributos que no tienen un tipo de datos definido, luego veremos que hacer con ellos"
      ],
      "metadata": {
        "id": "9Ulihxz6Lb7P"
      }
    },
    {
      "cell_type": "code",
      "source": [
        "dataset.describe()"
      ],
      "metadata": {
        "colab": {
          "base_uri": "https://localhost:8080/",
          "height": 300
        },
        "id": "hqT1680hKxak",
        "outputId": "98482d1b-d5cf-4a2f-a7f8-bd5d4e09debd"
      },
      "execution_count": 1093,
      "outputs": [
        {
          "output_type": "execute_result",
          "data": {
            "text/plain": [
              "                 id         edad  hipertension  enfermedad_corazon  \\\n",
              "count   5110.000000  5110.000000   5110.000000         5110.000000   \n",
              "mean   36517.829354    43.226614      0.097456            0.054012   \n",
              "std    21161.721625    22.612647      0.296607            0.226063   \n",
              "min       67.000000     0.080000      0.000000            0.000000   \n",
              "25%    17741.250000    25.000000      0.000000            0.000000   \n",
              "50%    36932.000000    45.000000      0.000000            0.000000   \n",
              "75%    54682.000000    61.000000      0.000000            0.000000   \n",
              "max    72940.000000    82.000000      1.000000            1.000000   \n",
              "\n",
              "       casado_alguna_vez  nivel_glucosa          imc    apoplejia  \n",
              "count        5110.000000    5110.000000  4909.000000  5110.000000  \n",
              "mean            0.656164     106.147677    28.893237     0.048728  \n",
              "std             0.475034      45.283560     7.854067     0.215320  \n",
              "min             0.000000      55.120000    10.300000     0.000000  \n",
              "25%             0.000000      77.245000    23.500000     0.000000  \n",
              "50%             1.000000      91.885000    28.100000     0.000000  \n",
              "75%             1.000000     114.090000    33.100000     0.000000  \n",
              "max             1.000000     271.740000    97.600000     1.000000  "
            ],
            "text/html": [
              "\n",
              "  <div id=\"df-9bfaf505-1ee9-4428-8661-156e79479e2a\">\n",
              "    <div class=\"colab-df-container\">\n",
              "      <div>\n",
              "<style scoped>\n",
              "    .dataframe tbody tr th:only-of-type {\n",
              "        vertical-align: middle;\n",
              "    }\n",
              "\n",
              "    .dataframe tbody tr th {\n",
              "        vertical-align: top;\n",
              "    }\n",
              "\n",
              "    .dataframe thead th {\n",
              "        text-align: right;\n",
              "    }\n",
              "</style>\n",
              "<table border=\"1\" class=\"dataframe\">\n",
              "  <thead>\n",
              "    <tr style=\"text-align: right;\">\n",
              "      <th></th>\n",
              "      <th>id</th>\n",
              "      <th>edad</th>\n",
              "      <th>hipertension</th>\n",
              "      <th>enfermedad_corazon</th>\n",
              "      <th>casado_alguna_vez</th>\n",
              "      <th>nivel_glucosa</th>\n",
              "      <th>imc</th>\n",
              "      <th>apoplejia</th>\n",
              "    </tr>\n",
              "  </thead>\n",
              "  <tbody>\n",
              "    <tr>\n",
              "      <th>count</th>\n",
              "      <td>5110.000000</td>\n",
              "      <td>5110.000000</td>\n",
              "      <td>5110.000000</td>\n",
              "      <td>5110.000000</td>\n",
              "      <td>5110.000000</td>\n",
              "      <td>5110.000000</td>\n",
              "      <td>4909.000000</td>\n",
              "      <td>5110.000000</td>\n",
              "    </tr>\n",
              "    <tr>\n",
              "      <th>mean</th>\n",
              "      <td>36517.829354</td>\n",
              "      <td>43.226614</td>\n",
              "      <td>0.097456</td>\n",
              "      <td>0.054012</td>\n",
              "      <td>0.656164</td>\n",
              "      <td>106.147677</td>\n",
              "      <td>28.893237</td>\n",
              "      <td>0.048728</td>\n",
              "    </tr>\n",
              "    <tr>\n",
              "      <th>std</th>\n",
              "      <td>21161.721625</td>\n",
              "      <td>22.612647</td>\n",
              "      <td>0.296607</td>\n",
              "      <td>0.226063</td>\n",
              "      <td>0.475034</td>\n",
              "      <td>45.283560</td>\n",
              "      <td>7.854067</td>\n",
              "      <td>0.215320</td>\n",
              "    </tr>\n",
              "    <tr>\n",
              "      <th>min</th>\n",
              "      <td>67.000000</td>\n",
              "      <td>0.080000</td>\n",
              "      <td>0.000000</td>\n",
              "      <td>0.000000</td>\n",
              "      <td>0.000000</td>\n",
              "      <td>55.120000</td>\n",
              "      <td>10.300000</td>\n",
              "      <td>0.000000</td>\n",
              "    </tr>\n",
              "    <tr>\n",
              "      <th>25%</th>\n",
              "      <td>17741.250000</td>\n",
              "      <td>25.000000</td>\n",
              "      <td>0.000000</td>\n",
              "      <td>0.000000</td>\n",
              "      <td>0.000000</td>\n",
              "      <td>77.245000</td>\n",
              "      <td>23.500000</td>\n",
              "      <td>0.000000</td>\n",
              "    </tr>\n",
              "    <tr>\n",
              "      <th>50%</th>\n",
              "      <td>36932.000000</td>\n",
              "      <td>45.000000</td>\n",
              "      <td>0.000000</td>\n",
              "      <td>0.000000</td>\n",
              "      <td>1.000000</td>\n",
              "      <td>91.885000</td>\n",
              "      <td>28.100000</td>\n",
              "      <td>0.000000</td>\n",
              "    </tr>\n",
              "    <tr>\n",
              "      <th>75%</th>\n",
              "      <td>54682.000000</td>\n",
              "      <td>61.000000</td>\n",
              "      <td>0.000000</td>\n",
              "      <td>0.000000</td>\n",
              "      <td>1.000000</td>\n",
              "      <td>114.090000</td>\n",
              "      <td>33.100000</td>\n",
              "      <td>0.000000</td>\n",
              "    </tr>\n",
              "    <tr>\n",
              "      <th>max</th>\n",
              "      <td>72940.000000</td>\n",
              "      <td>82.000000</td>\n",
              "      <td>1.000000</td>\n",
              "      <td>1.000000</td>\n",
              "      <td>1.000000</td>\n",
              "      <td>271.740000</td>\n",
              "      <td>97.600000</td>\n",
              "      <td>1.000000</td>\n",
              "    </tr>\n",
              "  </tbody>\n",
              "</table>\n",
              "</div>\n",
              "      <button class=\"colab-df-convert\" onclick=\"convertToInteractive('df-9bfaf505-1ee9-4428-8661-156e79479e2a')\"\n",
              "              title=\"Convert this dataframe to an interactive table.\"\n",
              "              style=\"display:none;\">\n",
              "        \n",
              "  <svg xmlns=\"http://www.w3.org/2000/svg\" height=\"24px\"viewBox=\"0 0 24 24\"\n",
              "       width=\"24px\">\n",
              "    <path d=\"M0 0h24v24H0V0z\" fill=\"none\"/>\n",
              "    <path d=\"M18.56 5.44l.94 2.06.94-2.06 2.06-.94-2.06-.94-.94-2.06-.94 2.06-2.06.94zm-11 1L8.5 8.5l.94-2.06 2.06-.94-2.06-.94L8.5 2.5l-.94 2.06-2.06.94zm10 10l.94 2.06.94-2.06 2.06-.94-2.06-.94-.94-2.06-.94 2.06-2.06.94z\"/><path d=\"M17.41 7.96l-1.37-1.37c-.4-.4-.92-.59-1.43-.59-.52 0-1.04.2-1.43.59L10.3 9.45l-7.72 7.72c-.78.78-.78 2.05 0 2.83L4 21.41c.39.39.9.59 1.41.59.51 0 1.02-.2 1.41-.59l7.78-7.78 2.81-2.81c.8-.78.8-2.07 0-2.86zM5.41 20L4 18.59l7.72-7.72 1.47 1.35L5.41 20z\"/>\n",
              "  </svg>\n",
              "      </button>\n",
              "      \n",
              "  <style>\n",
              "    .colab-df-container {\n",
              "      display:flex;\n",
              "      flex-wrap:wrap;\n",
              "      gap: 12px;\n",
              "    }\n",
              "\n",
              "    .colab-df-convert {\n",
              "      background-color: #E8F0FE;\n",
              "      border: none;\n",
              "      border-radius: 50%;\n",
              "      cursor: pointer;\n",
              "      display: none;\n",
              "      fill: #1967D2;\n",
              "      height: 32px;\n",
              "      padding: 0 0 0 0;\n",
              "      width: 32px;\n",
              "    }\n",
              "\n",
              "    .colab-df-convert:hover {\n",
              "      background-color: #E2EBFA;\n",
              "      box-shadow: 0px 1px 2px rgba(60, 64, 67, 0.3), 0px 1px 3px 1px rgba(60, 64, 67, 0.15);\n",
              "      fill: #174EA6;\n",
              "    }\n",
              "\n",
              "    [theme=dark] .colab-df-convert {\n",
              "      background-color: #3B4455;\n",
              "      fill: #D2E3FC;\n",
              "    }\n",
              "\n",
              "    [theme=dark] .colab-df-convert:hover {\n",
              "      background-color: #434B5C;\n",
              "      box-shadow: 0px 1px 3px 1px rgba(0, 0, 0, 0.15);\n",
              "      filter: drop-shadow(0px 1px 2px rgba(0, 0, 0, 0.3));\n",
              "      fill: #FFFFFF;\n",
              "    }\n",
              "  </style>\n",
              "\n",
              "      <script>\n",
              "        const buttonEl =\n",
              "          document.querySelector('#df-9bfaf505-1ee9-4428-8661-156e79479e2a button.colab-df-convert');\n",
              "        buttonEl.style.display =\n",
              "          google.colab.kernel.accessAllowed ? 'block' : 'none';\n",
              "\n",
              "        async function convertToInteractive(key) {\n",
              "          const element = document.querySelector('#df-9bfaf505-1ee9-4428-8661-156e79479e2a');\n",
              "          const dataTable =\n",
              "            await google.colab.kernel.invokeFunction('convertToInteractive',\n",
              "                                                     [key], {});\n",
              "          if (!dataTable) return;\n",
              "\n",
              "          const docLinkHtml = 'Like what you see? Visit the ' +\n",
              "            '<a target=\"_blank\" href=https://colab.research.google.com/notebooks/data_table.ipynb>data table notebook</a>'\n",
              "            + ' to learn more about interactive tables.';\n",
              "          element.innerHTML = '';\n",
              "          dataTable['output_type'] = 'display_data';\n",
              "          await google.colab.output.renderOutput(dataTable, element);\n",
              "          const docLink = document.createElement('div');\n",
              "          docLink.innerHTML = docLinkHtml;\n",
              "          element.appendChild(docLink);\n",
              "        }\n",
              "      </script>\n",
              "    </div>\n",
              "  </div>\n",
              "  "
            ]
          },
          "metadata": {},
          "execution_count": 1093
        }
      ]
    },
    {
      "cell_type": "markdown",
      "source": [
        "Podemos observar que la columna 'imc' tiene valores nulos, a simple vista no podemos saber como se comporta, pero ya tenemos una idea general"
      ],
      "metadata": {
        "id": "Msxcr9zcLlUx"
      }
    },
    {
      "cell_type": "code",
      "source": [
        "dataset.isna().sum()"
      ],
      "metadata": {
        "colab": {
          "base_uri": "https://localhost:8080/"
        },
        "id": "v5-BF3UkMBks",
        "outputId": "de647cb9-87d0-4c81-8404-da5a200778db"
      },
      "execution_count": 1094,
      "outputs": [
        {
          "output_type": "execute_result",
          "data": {
            "text/plain": [
              "id                      0\n",
              "genero                  0\n",
              "edad                    0\n",
              "hipertension            0\n",
              "enfermedad_corazon      0\n",
              "casado_alguna_vez       0\n",
              "tipo_trabajo            0\n",
              "tipo_residencia         0\n",
              "nivel_glucosa           0\n",
              "imc                   201\n",
              "estado_fumador          0\n",
              "apoplejia               0\n",
              "dtype: int64"
            ]
          },
          "metadata": {},
          "execution_count": 1094
        }
      ]
    },
    {
      "cell_type": "code",
      "source": [
        "# Checamos los valores nulos de imc\n",
        "dataset[dataset['imc'].isna()]"
      ],
      "metadata": {
        "colab": {
          "base_uri": "https://localhost:8080/",
          "height": 488
        },
        "id": "ivO5BCYlLvZ7",
        "outputId": "f9e12e77-f2a9-41a4-ccf7-f161dfc4da6e"
      },
      "execution_count": 1095,
      "outputs": [
        {
          "output_type": "execute_result",
          "data": {
            "text/plain": [
              "         id  genero  edad  hipertension  enfermedad_corazon  \\\n",
              "1     51676   mujer  61.0             0                   0   \n",
              "8     27419   mujer  59.0             0                   0   \n",
              "13     8213  hombre  78.0             0                   1   \n",
              "19    25226  hombre  57.0             0                   1   \n",
              "27    61843  hombre  58.0             0                   0   \n",
              "...     ...     ...   ...           ...                 ...   \n",
              "5039  42007  hombre  41.0             0                   0   \n",
              "5048  28788  hombre  40.0             0                   0   \n",
              "5093  32235   mujer  45.0             1                   0   \n",
              "5099   7293  hombre  40.0             0                   0   \n",
              "5105  18234   mujer  80.0             1                   0   \n",
              "\n",
              "      casado_alguna_vez   tipo_trabajo tipo_residencia  nivel_glucosa  imc  \\\n",
              "1                     1       autonomo           rural         202.21  NaN   \n",
              "8                     1        privado           rural          76.15  NaN   \n",
              "13                    1        privado          urbano         219.84  NaN   \n",
              "19                    0  gubernamental          urbano         217.08  NaN   \n",
              "27                    1        privado           rural         189.84  NaN   \n",
              "...                 ...            ...             ...            ...  ...   \n",
              "5039                  0        privado           rural          70.15  NaN   \n",
              "5048                  1        privado          urbano         191.15  NaN   \n",
              "5093                  1  gubernamental           rural          95.02  NaN   \n",
              "5099                  1        privado           rural          83.94  NaN   \n",
              "5105                  1        privado          urbano          83.75  NaN   \n",
              "\n",
              "     estado_fumador  apoplejia  \n",
              "1             nunca          1  \n",
              "8       desconocido          1  \n",
              "13      desconocido          1  \n",
              "19      desconocido          1  \n",
              "27      desconocido          1  \n",
              "...             ...        ...  \n",
              "5039         fumaba          0  \n",
              "5048           fuma          0  \n",
              "5093           fuma          0  \n",
              "5099           fuma          0  \n",
              "5105          nunca          0  \n",
              "\n",
              "[201 rows x 12 columns]"
            ],
            "text/html": [
              "\n",
              "  <div id=\"df-442db66b-0aa4-4e2e-beee-2e84ad23bc63\">\n",
              "    <div class=\"colab-df-container\">\n",
              "      <div>\n",
              "<style scoped>\n",
              "    .dataframe tbody tr th:only-of-type {\n",
              "        vertical-align: middle;\n",
              "    }\n",
              "\n",
              "    .dataframe tbody tr th {\n",
              "        vertical-align: top;\n",
              "    }\n",
              "\n",
              "    .dataframe thead th {\n",
              "        text-align: right;\n",
              "    }\n",
              "</style>\n",
              "<table border=\"1\" class=\"dataframe\">\n",
              "  <thead>\n",
              "    <tr style=\"text-align: right;\">\n",
              "      <th></th>\n",
              "      <th>id</th>\n",
              "      <th>genero</th>\n",
              "      <th>edad</th>\n",
              "      <th>hipertension</th>\n",
              "      <th>enfermedad_corazon</th>\n",
              "      <th>casado_alguna_vez</th>\n",
              "      <th>tipo_trabajo</th>\n",
              "      <th>tipo_residencia</th>\n",
              "      <th>nivel_glucosa</th>\n",
              "      <th>imc</th>\n",
              "      <th>estado_fumador</th>\n",
              "      <th>apoplejia</th>\n",
              "    </tr>\n",
              "  </thead>\n",
              "  <tbody>\n",
              "    <tr>\n",
              "      <th>1</th>\n",
              "      <td>51676</td>\n",
              "      <td>mujer</td>\n",
              "      <td>61.0</td>\n",
              "      <td>0</td>\n",
              "      <td>0</td>\n",
              "      <td>1</td>\n",
              "      <td>autonomo</td>\n",
              "      <td>rural</td>\n",
              "      <td>202.21</td>\n",
              "      <td>NaN</td>\n",
              "      <td>nunca</td>\n",
              "      <td>1</td>\n",
              "    </tr>\n",
              "    <tr>\n",
              "      <th>8</th>\n",
              "      <td>27419</td>\n",
              "      <td>mujer</td>\n",
              "      <td>59.0</td>\n",
              "      <td>0</td>\n",
              "      <td>0</td>\n",
              "      <td>1</td>\n",
              "      <td>privado</td>\n",
              "      <td>rural</td>\n",
              "      <td>76.15</td>\n",
              "      <td>NaN</td>\n",
              "      <td>desconocido</td>\n",
              "      <td>1</td>\n",
              "    </tr>\n",
              "    <tr>\n",
              "      <th>13</th>\n",
              "      <td>8213</td>\n",
              "      <td>hombre</td>\n",
              "      <td>78.0</td>\n",
              "      <td>0</td>\n",
              "      <td>1</td>\n",
              "      <td>1</td>\n",
              "      <td>privado</td>\n",
              "      <td>urbano</td>\n",
              "      <td>219.84</td>\n",
              "      <td>NaN</td>\n",
              "      <td>desconocido</td>\n",
              "      <td>1</td>\n",
              "    </tr>\n",
              "    <tr>\n",
              "      <th>19</th>\n",
              "      <td>25226</td>\n",
              "      <td>hombre</td>\n",
              "      <td>57.0</td>\n",
              "      <td>0</td>\n",
              "      <td>1</td>\n",
              "      <td>0</td>\n",
              "      <td>gubernamental</td>\n",
              "      <td>urbano</td>\n",
              "      <td>217.08</td>\n",
              "      <td>NaN</td>\n",
              "      <td>desconocido</td>\n",
              "      <td>1</td>\n",
              "    </tr>\n",
              "    <tr>\n",
              "      <th>27</th>\n",
              "      <td>61843</td>\n",
              "      <td>hombre</td>\n",
              "      <td>58.0</td>\n",
              "      <td>0</td>\n",
              "      <td>0</td>\n",
              "      <td>1</td>\n",
              "      <td>privado</td>\n",
              "      <td>rural</td>\n",
              "      <td>189.84</td>\n",
              "      <td>NaN</td>\n",
              "      <td>desconocido</td>\n",
              "      <td>1</td>\n",
              "    </tr>\n",
              "    <tr>\n",
              "      <th>...</th>\n",
              "      <td>...</td>\n",
              "      <td>...</td>\n",
              "      <td>...</td>\n",
              "      <td>...</td>\n",
              "      <td>...</td>\n",
              "      <td>...</td>\n",
              "      <td>...</td>\n",
              "      <td>...</td>\n",
              "      <td>...</td>\n",
              "      <td>...</td>\n",
              "      <td>...</td>\n",
              "      <td>...</td>\n",
              "    </tr>\n",
              "    <tr>\n",
              "      <th>5039</th>\n",
              "      <td>42007</td>\n",
              "      <td>hombre</td>\n",
              "      <td>41.0</td>\n",
              "      <td>0</td>\n",
              "      <td>0</td>\n",
              "      <td>0</td>\n",
              "      <td>privado</td>\n",
              "      <td>rural</td>\n",
              "      <td>70.15</td>\n",
              "      <td>NaN</td>\n",
              "      <td>fumaba</td>\n",
              "      <td>0</td>\n",
              "    </tr>\n",
              "    <tr>\n",
              "      <th>5048</th>\n",
              "      <td>28788</td>\n",
              "      <td>hombre</td>\n",
              "      <td>40.0</td>\n",
              "      <td>0</td>\n",
              "      <td>0</td>\n",
              "      <td>1</td>\n",
              "      <td>privado</td>\n",
              "      <td>urbano</td>\n",
              "      <td>191.15</td>\n",
              "      <td>NaN</td>\n",
              "      <td>fuma</td>\n",
              "      <td>0</td>\n",
              "    </tr>\n",
              "    <tr>\n",
              "      <th>5093</th>\n",
              "      <td>32235</td>\n",
              "      <td>mujer</td>\n",
              "      <td>45.0</td>\n",
              "      <td>1</td>\n",
              "      <td>0</td>\n",
              "      <td>1</td>\n",
              "      <td>gubernamental</td>\n",
              "      <td>rural</td>\n",
              "      <td>95.02</td>\n",
              "      <td>NaN</td>\n",
              "      <td>fuma</td>\n",
              "      <td>0</td>\n",
              "    </tr>\n",
              "    <tr>\n",
              "      <th>5099</th>\n",
              "      <td>7293</td>\n",
              "      <td>hombre</td>\n",
              "      <td>40.0</td>\n",
              "      <td>0</td>\n",
              "      <td>0</td>\n",
              "      <td>1</td>\n",
              "      <td>privado</td>\n",
              "      <td>rural</td>\n",
              "      <td>83.94</td>\n",
              "      <td>NaN</td>\n",
              "      <td>fuma</td>\n",
              "      <td>0</td>\n",
              "    </tr>\n",
              "    <tr>\n",
              "      <th>5105</th>\n",
              "      <td>18234</td>\n",
              "      <td>mujer</td>\n",
              "      <td>80.0</td>\n",
              "      <td>1</td>\n",
              "      <td>0</td>\n",
              "      <td>1</td>\n",
              "      <td>privado</td>\n",
              "      <td>urbano</td>\n",
              "      <td>83.75</td>\n",
              "      <td>NaN</td>\n",
              "      <td>nunca</td>\n",
              "      <td>0</td>\n",
              "    </tr>\n",
              "  </tbody>\n",
              "</table>\n",
              "<p>201 rows × 12 columns</p>\n",
              "</div>\n",
              "      <button class=\"colab-df-convert\" onclick=\"convertToInteractive('df-442db66b-0aa4-4e2e-beee-2e84ad23bc63')\"\n",
              "              title=\"Convert this dataframe to an interactive table.\"\n",
              "              style=\"display:none;\">\n",
              "        \n",
              "  <svg xmlns=\"http://www.w3.org/2000/svg\" height=\"24px\"viewBox=\"0 0 24 24\"\n",
              "       width=\"24px\">\n",
              "    <path d=\"M0 0h24v24H0V0z\" fill=\"none\"/>\n",
              "    <path d=\"M18.56 5.44l.94 2.06.94-2.06 2.06-.94-2.06-.94-.94-2.06-.94 2.06-2.06.94zm-11 1L8.5 8.5l.94-2.06 2.06-.94-2.06-.94L8.5 2.5l-.94 2.06-2.06.94zm10 10l.94 2.06.94-2.06 2.06-.94-2.06-.94-.94-2.06-.94 2.06-2.06.94z\"/><path d=\"M17.41 7.96l-1.37-1.37c-.4-.4-.92-.59-1.43-.59-.52 0-1.04.2-1.43.59L10.3 9.45l-7.72 7.72c-.78.78-.78 2.05 0 2.83L4 21.41c.39.39.9.59 1.41.59.51 0 1.02-.2 1.41-.59l7.78-7.78 2.81-2.81c.8-.78.8-2.07 0-2.86zM5.41 20L4 18.59l7.72-7.72 1.47 1.35L5.41 20z\"/>\n",
              "  </svg>\n",
              "      </button>\n",
              "      \n",
              "  <style>\n",
              "    .colab-df-container {\n",
              "      display:flex;\n",
              "      flex-wrap:wrap;\n",
              "      gap: 12px;\n",
              "    }\n",
              "\n",
              "    .colab-df-convert {\n",
              "      background-color: #E8F0FE;\n",
              "      border: none;\n",
              "      border-radius: 50%;\n",
              "      cursor: pointer;\n",
              "      display: none;\n",
              "      fill: #1967D2;\n",
              "      height: 32px;\n",
              "      padding: 0 0 0 0;\n",
              "      width: 32px;\n",
              "    }\n",
              "\n",
              "    .colab-df-convert:hover {\n",
              "      background-color: #E2EBFA;\n",
              "      box-shadow: 0px 1px 2px rgba(60, 64, 67, 0.3), 0px 1px 3px 1px rgba(60, 64, 67, 0.15);\n",
              "      fill: #174EA6;\n",
              "    }\n",
              "\n",
              "    [theme=dark] .colab-df-convert {\n",
              "      background-color: #3B4455;\n",
              "      fill: #D2E3FC;\n",
              "    }\n",
              "\n",
              "    [theme=dark] .colab-df-convert:hover {\n",
              "      background-color: #434B5C;\n",
              "      box-shadow: 0px 1px 3px 1px rgba(0, 0, 0, 0.15);\n",
              "      filter: drop-shadow(0px 1px 2px rgba(0, 0, 0, 0.3));\n",
              "      fill: #FFFFFF;\n",
              "    }\n",
              "  </style>\n",
              "\n",
              "      <script>\n",
              "        const buttonEl =\n",
              "          document.querySelector('#df-442db66b-0aa4-4e2e-beee-2e84ad23bc63 button.colab-df-convert');\n",
              "        buttonEl.style.display =\n",
              "          google.colab.kernel.accessAllowed ? 'block' : 'none';\n",
              "\n",
              "        async function convertToInteractive(key) {\n",
              "          const element = document.querySelector('#df-442db66b-0aa4-4e2e-beee-2e84ad23bc63');\n",
              "          const dataTable =\n",
              "            await google.colab.kernel.invokeFunction('convertToInteractive',\n",
              "                                                     [key], {});\n",
              "          if (!dataTable) return;\n",
              "\n",
              "          const docLinkHtml = 'Like what you see? Visit the ' +\n",
              "            '<a target=\"_blank\" href=https://colab.research.google.com/notebooks/data_table.ipynb>data table notebook</a>'\n",
              "            + ' to learn more about interactive tables.';\n",
              "          element.innerHTML = '';\n",
              "          dataTable['output_type'] = 'display_data';\n",
              "          await google.colab.output.renderOutput(dataTable, element);\n",
              "          const docLink = document.createElement('div');\n",
              "          docLink.innerHTML = docLinkHtml;\n",
              "          element.appendChild(docLink);\n",
              "        }\n",
              "      </script>\n",
              "    </div>\n",
              "  </div>\n",
              "  "
            ]
          },
          "metadata": {},
          "execution_count": 1095
        }
      ]
    },
    {
      "cell_type": "markdown",
      "source": [
        "Ademas de los valores nulos, se observa que el la columa 'estado_fumador' hay valores denominados 'desconocido' lo cual no es representativo"
      ],
      "metadata": {
        "id": "Fj0gmZsDMb34"
      }
    },
    {
      "cell_type": "code",
      "source": [
        "# Checamos estos valores 'desconocido'\n",
        "dataset[dataset['estado_fumador'] == 'desconocido']"
      ],
      "metadata": {
        "colab": {
          "base_uri": "https://localhost:8080/",
          "height": 488
        },
        "id": "0R8TcqszMntO",
        "outputId": "278ba0f3-d9ca-4601-e9ac-e61e108bf025"
      },
      "execution_count": 1096,
      "outputs": [
        {
          "output_type": "execute_result",
          "data": {
            "text/plain": [
              "         id  genero  edad  hipertension  enfermedad_corazon  \\\n",
              "8     27419   mujer  59.0             0                   0   \n",
              "9     60491   mujer  78.0             0                   0   \n",
              "13     8213  hombre  78.0             0                   1   \n",
              "19    25226  hombre  57.0             0                   1   \n",
              "23    64778  hombre  82.0             0                   1   \n",
              "...     ...     ...   ...           ...                 ...   \n",
              "5098    579  hombre   9.0             0                   0   \n",
              "5101  36901   mujer  45.0             0                   0   \n",
              "5103  22127   mujer  18.0             0                   0   \n",
              "5104  14180   mujer  13.0             0                   0   \n",
              "5109  44679   mujer  44.0             0                   0   \n",
              "\n",
              "      casado_alguna_vez   tipo_trabajo tipo_residencia  nivel_glucosa   imc  \\\n",
              "8                     1        privado           rural          76.15   NaN   \n",
              "9                     1        privado          urbano          58.57  24.2   \n",
              "13                    1        privado          urbano         219.84   NaN   \n",
              "19                    0  gubernamental          urbano         217.08   NaN   \n",
              "23                    1        privado           rural         208.30  32.5   \n",
              "...                 ...            ...             ...            ...   ...   \n",
              "5098                  0      con_niños          urbano          71.88  17.5   \n",
              "5101                  1        privado          urbano          97.95  24.5   \n",
              "5103                  0        privado          urbano          82.85  46.9   \n",
              "5104                  0      con_niños           rural         103.08  18.6   \n",
              "5109                  1  gubernamental          urbano          85.28  26.2   \n",
              "\n",
              "     estado_fumador  apoplejia  \n",
              "8       desconocido          1  \n",
              "9       desconocido          1  \n",
              "13      desconocido          1  \n",
              "19      desconocido          1  \n",
              "23      desconocido          1  \n",
              "...             ...        ...  \n",
              "5098    desconocido          0  \n",
              "5101    desconocido          0  \n",
              "5103    desconocido          0  \n",
              "5104    desconocido          0  \n",
              "5109    desconocido          0  \n",
              "\n",
              "[1544 rows x 12 columns]"
            ],
            "text/html": [
              "\n",
              "  <div id=\"df-39c9ddca-c973-4e69-9151-9a7bc7fc69b3\">\n",
              "    <div class=\"colab-df-container\">\n",
              "      <div>\n",
              "<style scoped>\n",
              "    .dataframe tbody tr th:only-of-type {\n",
              "        vertical-align: middle;\n",
              "    }\n",
              "\n",
              "    .dataframe tbody tr th {\n",
              "        vertical-align: top;\n",
              "    }\n",
              "\n",
              "    .dataframe thead th {\n",
              "        text-align: right;\n",
              "    }\n",
              "</style>\n",
              "<table border=\"1\" class=\"dataframe\">\n",
              "  <thead>\n",
              "    <tr style=\"text-align: right;\">\n",
              "      <th></th>\n",
              "      <th>id</th>\n",
              "      <th>genero</th>\n",
              "      <th>edad</th>\n",
              "      <th>hipertension</th>\n",
              "      <th>enfermedad_corazon</th>\n",
              "      <th>casado_alguna_vez</th>\n",
              "      <th>tipo_trabajo</th>\n",
              "      <th>tipo_residencia</th>\n",
              "      <th>nivel_glucosa</th>\n",
              "      <th>imc</th>\n",
              "      <th>estado_fumador</th>\n",
              "      <th>apoplejia</th>\n",
              "    </tr>\n",
              "  </thead>\n",
              "  <tbody>\n",
              "    <tr>\n",
              "      <th>8</th>\n",
              "      <td>27419</td>\n",
              "      <td>mujer</td>\n",
              "      <td>59.0</td>\n",
              "      <td>0</td>\n",
              "      <td>0</td>\n",
              "      <td>1</td>\n",
              "      <td>privado</td>\n",
              "      <td>rural</td>\n",
              "      <td>76.15</td>\n",
              "      <td>NaN</td>\n",
              "      <td>desconocido</td>\n",
              "      <td>1</td>\n",
              "    </tr>\n",
              "    <tr>\n",
              "      <th>9</th>\n",
              "      <td>60491</td>\n",
              "      <td>mujer</td>\n",
              "      <td>78.0</td>\n",
              "      <td>0</td>\n",
              "      <td>0</td>\n",
              "      <td>1</td>\n",
              "      <td>privado</td>\n",
              "      <td>urbano</td>\n",
              "      <td>58.57</td>\n",
              "      <td>24.2</td>\n",
              "      <td>desconocido</td>\n",
              "      <td>1</td>\n",
              "    </tr>\n",
              "    <tr>\n",
              "      <th>13</th>\n",
              "      <td>8213</td>\n",
              "      <td>hombre</td>\n",
              "      <td>78.0</td>\n",
              "      <td>0</td>\n",
              "      <td>1</td>\n",
              "      <td>1</td>\n",
              "      <td>privado</td>\n",
              "      <td>urbano</td>\n",
              "      <td>219.84</td>\n",
              "      <td>NaN</td>\n",
              "      <td>desconocido</td>\n",
              "      <td>1</td>\n",
              "    </tr>\n",
              "    <tr>\n",
              "      <th>19</th>\n",
              "      <td>25226</td>\n",
              "      <td>hombre</td>\n",
              "      <td>57.0</td>\n",
              "      <td>0</td>\n",
              "      <td>1</td>\n",
              "      <td>0</td>\n",
              "      <td>gubernamental</td>\n",
              "      <td>urbano</td>\n",
              "      <td>217.08</td>\n",
              "      <td>NaN</td>\n",
              "      <td>desconocido</td>\n",
              "      <td>1</td>\n",
              "    </tr>\n",
              "    <tr>\n",
              "      <th>23</th>\n",
              "      <td>64778</td>\n",
              "      <td>hombre</td>\n",
              "      <td>82.0</td>\n",
              "      <td>0</td>\n",
              "      <td>1</td>\n",
              "      <td>1</td>\n",
              "      <td>privado</td>\n",
              "      <td>rural</td>\n",
              "      <td>208.30</td>\n",
              "      <td>32.5</td>\n",
              "      <td>desconocido</td>\n",
              "      <td>1</td>\n",
              "    </tr>\n",
              "    <tr>\n",
              "      <th>...</th>\n",
              "      <td>...</td>\n",
              "      <td>...</td>\n",
              "      <td>...</td>\n",
              "      <td>...</td>\n",
              "      <td>...</td>\n",
              "      <td>...</td>\n",
              "      <td>...</td>\n",
              "      <td>...</td>\n",
              "      <td>...</td>\n",
              "      <td>...</td>\n",
              "      <td>...</td>\n",
              "      <td>...</td>\n",
              "    </tr>\n",
              "    <tr>\n",
              "      <th>5098</th>\n",
              "      <td>579</td>\n",
              "      <td>hombre</td>\n",
              "      <td>9.0</td>\n",
              "      <td>0</td>\n",
              "      <td>0</td>\n",
              "      <td>0</td>\n",
              "      <td>con_niños</td>\n",
              "      <td>urbano</td>\n",
              "      <td>71.88</td>\n",
              "      <td>17.5</td>\n",
              "      <td>desconocido</td>\n",
              "      <td>0</td>\n",
              "    </tr>\n",
              "    <tr>\n",
              "      <th>5101</th>\n",
              "      <td>36901</td>\n",
              "      <td>mujer</td>\n",
              "      <td>45.0</td>\n",
              "      <td>0</td>\n",
              "      <td>0</td>\n",
              "      <td>1</td>\n",
              "      <td>privado</td>\n",
              "      <td>urbano</td>\n",
              "      <td>97.95</td>\n",
              "      <td>24.5</td>\n",
              "      <td>desconocido</td>\n",
              "      <td>0</td>\n",
              "    </tr>\n",
              "    <tr>\n",
              "      <th>5103</th>\n",
              "      <td>22127</td>\n",
              "      <td>mujer</td>\n",
              "      <td>18.0</td>\n",
              "      <td>0</td>\n",
              "      <td>0</td>\n",
              "      <td>0</td>\n",
              "      <td>privado</td>\n",
              "      <td>urbano</td>\n",
              "      <td>82.85</td>\n",
              "      <td>46.9</td>\n",
              "      <td>desconocido</td>\n",
              "      <td>0</td>\n",
              "    </tr>\n",
              "    <tr>\n",
              "      <th>5104</th>\n",
              "      <td>14180</td>\n",
              "      <td>mujer</td>\n",
              "      <td>13.0</td>\n",
              "      <td>0</td>\n",
              "      <td>0</td>\n",
              "      <td>0</td>\n",
              "      <td>con_niños</td>\n",
              "      <td>rural</td>\n",
              "      <td>103.08</td>\n",
              "      <td>18.6</td>\n",
              "      <td>desconocido</td>\n",
              "      <td>0</td>\n",
              "    </tr>\n",
              "    <tr>\n",
              "      <th>5109</th>\n",
              "      <td>44679</td>\n",
              "      <td>mujer</td>\n",
              "      <td>44.0</td>\n",
              "      <td>0</td>\n",
              "      <td>0</td>\n",
              "      <td>1</td>\n",
              "      <td>gubernamental</td>\n",
              "      <td>urbano</td>\n",
              "      <td>85.28</td>\n",
              "      <td>26.2</td>\n",
              "      <td>desconocido</td>\n",
              "      <td>0</td>\n",
              "    </tr>\n",
              "  </tbody>\n",
              "</table>\n",
              "<p>1544 rows × 12 columns</p>\n",
              "</div>\n",
              "      <button class=\"colab-df-convert\" onclick=\"convertToInteractive('df-39c9ddca-c973-4e69-9151-9a7bc7fc69b3')\"\n",
              "              title=\"Convert this dataframe to an interactive table.\"\n",
              "              style=\"display:none;\">\n",
              "        \n",
              "  <svg xmlns=\"http://www.w3.org/2000/svg\" height=\"24px\"viewBox=\"0 0 24 24\"\n",
              "       width=\"24px\">\n",
              "    <path d=\"M0 0h24v24H0V0z\" fill=\"none\"/>\n",
              "    <path d=\"M18.56 5.44l.94 2.06.94-2.06 2.06-.94-2.06-.94-.94-2.06-.94 2.06-2.06.94zm-11 1L8.5 8.5l.94-2.06 2.06-.94-2.06-.94L8.5 2.5l-.94 2.06-2.06.94zm10 10l.94 2.06.94-2.06 2.06-.94-2.06-.94-.94-2.06-.94 2.06-2.06.94z\"/><path d=\"M17.41 7.96l-1.37-1.37c-.4-.4-.92-.59-1.43-.59-.52 0-1.04.2-1.43.59L10.3 9.45l-7.72 7.72c-.78.78-.78 2.05 0 2.83L4 21.41c.39.39.9.59 1.41.59.51 0 1.02-.2 1.41-.59l7.78-7.78 2.81-2.81c.8-.78.8-2.07 0-2.86zM5.41 20L4 18.59l7.72-7.72 1.47 1.35L5.41 20z\"/>\n",
              "  </svg>\n",
              "      </button>\n",
              "      \n",
              "  <style>\n",
              "    .colab-df-container {\n",
              "      display:flex;\n",
              "      flex-wrap:wrap;\n",
              "      gap: 12px;\n",
              "    }\n",
              "\n",
              "    .colab-df-convert {\n",
              "      background-color: #E8F0FE;\n",
              "      border: none;\n",
              "      border-radius: 50%;\n",
              "      cursor: pointer;\n",
              "      display: none;\n",
              "      fill: #1967D2;\n",
              "      height: 32px;\n",
              "      padding: 0 0 0 0;\n",
              "      width: 32px;\n",
              "    }\n",
              "\n",
              "    .colab-df-convert:hover {\n",
              "      background-color: #E2EBFA;\n",
              "      box-shadow: 0px 1px 2px rgba(60, 64, 67, 0.3), 0px 1px 3px 1px rgba(60, 64, 67, 0.15);\n",
              "      fill: #174EA6;\n",
              "    }\n",
              "\n",
              "    [theme=dark] .colab-df-convert {\n",
              "      background-color: #3B4455;\n",
              "      fill: #D2E3FC;\n",
              "    }\n",
              "\n",
              "    [theme=dark] .colab-df-convert:hover {\n",
              "      background-color: #434B5C;\n",
              "      box-shadow: 0px 1px 3px 1px rgba(0, 0, 0, 0.15);\n",
              "      filter: drop-shadow(0px 1px 2px rgba(0, 0, 0, 0.3));\n",
              "      fill: #FFFFFF;\n",
              "    }\n",
              "  </style>\n",
              "\n",
              "      <script>\n",
              "        const buttonEl =\n",
              "          document.querySelector('#df-39c9ddca-c973-4e69-9151-9a7bc7fc69b3 button.colab-df-convert');\n",
              "        buttonEl.style.display =\n",
              "          google.colab.kernel.accessAllowed ? 'block' : 'none';\n",
              "\n",
              "        async function convertToInteractive(key) {\n",
              "          const element = document.querySelector('#df-39c9ddca-c973-4e69-9151-9a7bc7fc69b3');\n",
              "          const dataTable =\n",
              "            await google.colab.kernel.invokeFunction('convertToInteractive',\n",
              "                                                     [key], {});\n",
              "          if (!dataTable) return;\n",
              "\n",
              "          const docLinkHtml = 'Like what you see? Visit the ' +\n",
              "            '<a target=\"_blank\" href=https://colab.research.google.com/notebooks/data_table.ipynb>data table notebook</a>'\n",
              "            + ' to learn more about interactive tables.';\n",
              "          element.innerHTML = '';\n",
              "          dataTable['output_type'] = 'display_data';\n",
              "          await google.colab.output.renderOutput(dataTable, element);\n",
              "          const docLink = document.createElement('div');\n",
              "          docLink.innerHTML = docLinkHtml;\n",
              "          element.appendChild(docLink);\n",
              "        }\n",
              "      </script>\n",
              "    </div>\n",
              "  </div>\n",
              "  "
            ]
          },
          "metadata": {},
          "execution_count": 1096
        }
      ]
    },
    {
      "cell_type": "markdown",
      "source": [
        "Como el valor 'desconocido' no nos dice nada, podemos remplazarlos por NaN"
      ],
      "metadata": {
        "id": "_htJLoI9QIik"
      }
    },
    {
      "cell_type": "code",
      "source": [
        "#msno.bar(dataset, figsize=(8,5))"
      ],
      "metadata": {
        "id": "j1BOSp_XNDL0"
      },
      "execution_count": 1097,
      "outputs": []
    },
    {
      "cell_type": "code",
      "source": [
        "#msno.dendrogram(dataset, figsize=(8,5))"
      ],
      "metadata": {
        "id": "r-jIPrB6OMnb"
      },
      "execution_count": 1098,
      "outputs": []
    },
    {
      "cell_type": "markdown",
      "source": [
        "# Informacion de variables categoricas"
      ],
      "metadata": {
        "id": "EKwA6TsmP1UC"
      }
    },
    {
      "cell_type": "code",
      "source": [
        "# Vemos las categorias en cada columna\n",
        "\n",
        "for col in dataset.columns:\n",
        "    if dataset[col].dtype == 'object' or (dataset[col].dtype == 'int64' and col != 'id'):\n",
        "        print(col,\"->\", dataset[col].unique())"
      ],
      "metadata": {
        "colab": {
          "base_uri": "https://localhost:8080/"
        },
        "id": "rDrEhU25P3jl",
        "outputId": "7d271ef6-446a-457d-9b38-99c6b3d19e36"
      },
      "execution_count": 1099,
      "outputs": [
        {
          "output_type": "stream",
          "name": "stdout",
          "text": [
            "genero -> ['hombre' 'mujer' 'otro']\n",
            "hipertension -> [0 1]\n",
            "enfermedad_corazon -> [1 0]\n",
            "casado_alguna_vez -> [1 0]\n",
            "tipo_trabajo -> ['privado' 'autonomo' 'gubernamental' 'con_niños' 'nunca_trabajo']\n",
            "tipo_residencia -> ['urbano' 'rural']\n",
            "estado_fumador -> ['fumaba' 'nunca' 'fuma' 'desconocido']\n",
            "apoplejia -> [1 0]\n"
          ]
        }
      ]
    },
    {
      "cell_type": "code",
      "source": [
        "# Ejemplo de gráfica para una idea de las distribuciones\n",
        "#dataset['casado_alguna_vez'].value_counts().plot.pie(autopct='%1.1f%%', explode=[0.2, 0.2])"
      ],
      "metadata": {
        "id": "t-DkRWZFQ_bC"
      },
      "execution_count": 1100,
      "outputs": []
    },
    {
      "cell_type": "code",
      "source": [
        "#dataset['tipo_trabajo'].value_counts().plot.pie(autopct='%1.1f%%', explode=[0.1, 0.1, 0.1, 0.2, 0.3])"
      ],
      "metadata": {
        "id": "7y3C50_QRTa5"
      },
      "execution_count": 1101,
      "outputs": []
    },
    {
      "cell_type": "code",
      "source": [
        "# El riesgo de sufrir un ACV aumenta con la edad, entonces podemos asumir que\n",
        "# una persona que nunca trabajo es porque es muy joven todavia\n",
        "\n",
        "# Calculamos la cantidad de personas que tuvieron ACV sin trabajar\n",
        "\n",
        "nunca_trabajo = dataset[dataset.tipo_trabajo == 'nunca_trabajo']\n",
        "cantidad_aploplejia = nunca_trabajo['apoplejia'][nunca_trabajo.apoplejia == 1].count()\n",
        "cantidad_aploplejia"
      ],
      "metadata": {
        "colab": {
          "base_uri": "https://localhost:8080/"
        },
        "id": "tpHNBphjXAG7",
        "outputId": "d6d02f27-7d66-4920-985f-9f0e78065d21"
      },
      "execution_count": 1102,
      "outputs": [
        {
          "output_type": "execute_result",
          "data": {
            "text/plain": [
              "0"
            ]
          },
          "metadata": {},
          "execution_count": 1102
        }
      ]
    },
    {
      "cell_type": "code",
      "source": [
        "#dataset['genero'].value_counts().plot.pie(autopct='%1.1f%%', explode=[0.1, 0.1, 0.1])"
      ],
      "metadata": {
        "id": "0yuaiJ7iSJRO"
      },
      "execution_count": 1103,
      "outputs": []
    },
    {
      "cell_type": "markdown",
      "source": [
        "El genero 'otro' es irrelevante en comparacion al resto, podemos eliminarlo sin que haya un cambio notorio"
      ],
      "metadata": {
        "id": "EQbuW-k3SOdf"
      }
    },
    {
      "cell_type": "code",
      "source": [
        "cantidad_otro = dataset['genero'][dataset.genero == 'otro'].count()\n",
        "print(\"Cantidad de personas con genero 'otro' : {}\".format(cantidad_otro))"
      ],
      "metadata": {
        "colab": {
          "base_uri": "https://localhost:8080/"
        },
        "id": "-NLGW57DSZtj",
        "outputId": "4ef09794-df7c-4732-bcf4-f2c4acb86b33"
      },
      "execution_count": 1104,
      "outputs": [
        {
          "output_type": "stream",
          "name": "stdout",
          "text": [
            "Cantidad de personas con genero 'otro' : 1\n"
          ]
        }
      ]
    },
    {
      "cell_type": "markdown",
      "source": [
        "# Imputacion de los datos"
      ],
      "metadata": {
        "id": "o_Kx-QvFRsyO"
      }
    },
    {
      "cell_type": "code",
      "source": [
        "# Quitamos la columna id, no aporta datos relevantes\n",
        "dataset.drop('id', axis=1, inplace=True)"
      ],
      "metadata": {
        "id": "FUjGz9SQRup0"
      },
      "execution_count": 1105,
      "outputs": []
    },
    {
      "cell_type": "code",
      "source": [
        "# Nos quedamos con hombre y mujer solamente\n",
        "dataset = dataset[dataset.genero != 'otro']"
      ],
      "metadata": {
        "id": "cMCrbG9kSAnv"
      },
      "execution_count": 1106,
      "outputs": []
    },
    {
      "cell_type": "code",
      "source": [
        "# sacamos las filas de nunca_trabajo\n",
        "dataset = dataset[dataset.tipo_trabajo != 'nunca_trabajo']"
      ],
      "metadata": {
        "id": "uGjj4sPYUiFu"
      },
      "execution_count": 1107,
      "outputs": []
    },
    {
      "cell_type": "code",
      "source": [
        "dataset = dataset[dataset.estado_fumador != 'desconocido']"
      ],
      "metadata": {
        "id": "nrqM06mfiEp4"
      },
      "execution_count": 1108,
      "outputs": []
    },
    {
      "cell_type": "code",
      "source": [
        "#dataset['apoplejia'][dataset.estado_fumador == 'desconocido']"
      ],
      "metadata": {
        "id": "bkzNIzt-fREk"
      },
      "execution_count": 1109,
      "outputs": []
    },
    {
      "cell_type": "code",
      "source": [
        "for col in dataset.columns:\n",
        "    if dataset[col].dtype == 'object' or (dataset[col].dtype == 'int64' and col != 'id'):\n",
        "        print(col,\"->\", dataset[col].unique())"
      ],
      "metadata": {
        "colab": {
          "base_uri": "https://localhost:8080/"
        },
        "id": "4mk1D3Q4iI9W",
        "outputId": "8c43e39c-6da6-4e61-ba3b-85390dcdbe8c"
      },
      "execution_count": 1110,
      "outputs": [
        {
          "output_type": "stream",
          "name": "stdout",
          "text": [
            "genero -> ['hombre' 'mujer']\n",
            "hipertension -> [0 1]\n",
            "enfermedad_corazon -> [1 0]\n",
            "casado_alguna_vez -> [1 0]\n",
            "tipo_trabajo -> ['privado' 'autonomo' 'gubernamental' 'con_niños']\n",
            "tipo_residencia -> ['urbano' 'rural']\n",
            "estado_fumador -> ['fumaba' 'nunca' 'fuma']\n",
            "apoplejia -> [1 0]\n"
          ]
        }
      ]
    },
    {
      "cell_type": "markdown",
      "source": [
        "# Transformacion de los datos"
      ],
      "metadata": {
        "id": "CohYnLylVGCB"
      }
    },
    {
      "cell_type": "code",
      "source": [
        "# sklearn lo utilizamos después para clasificación, regresión, redes neuronales. Pero no viene mal pispear algunas de sus cualidades ya.\n",
        "\n",
        "le = LabelEncoder()     \n",
        "\n",
        "for col in dataset.columns:\n",
        "  if dataset[col].dtype == 'object':\n",
        "    # Si son columnas 'object', se codifican como numéricas. En esencia, siguen siendo categóricas.\n",
        "    dataset[col] = le.fit_transform(dataset[col])   # Con le.inverse_transform() recuperamos luego la etiqueta original"
      ],
      "metadata": {
        "id": "Vgqa7e_QVIjZ"
      },
      "execution_count": 1111,
      "outputs": []
    },
    {
      "cell_type": "code",
      "source": [
        "for col in dataset.columns:\n",
        "  if dataset[col].dtype == 'object' or (dataset[col].dtype == 'int64'):\n",
        "    print(col,\"->\", dataset[col].unique())\n",
        "\n",
        "# Ahora tenemos números en lugar de palabras, estamos más cerca de poder operar matemáticamente la información contenida en el dataset"
      ],
      "metadata": {
        "colab": {
          "base_uri": "https://localhost:8080/"
        },
        "id": "qRxM-IdpVcnW",
        "outputId": "fbb1f69d-50de-4f08-9766-1bcbbb742bc5"
      },
      "execution_count": 1112,
      "outputs": [
        {
          "output_type": "stream",
          "name": "stdout",
          "text": [
            "genero -> [0 1]\n",
            "hipertension -> [0 1]\n",
            "enfermedad_corazon -> [1 0]\n",
            "casado_alguna_vez -> [1 0]\n",
            "tipo_trabajo -> [3 0 2 1]\n",
            "tipo_residencia -> [1 0]\n",
            "estado_fumador -> [1 2 0]\n",
            "apoplejia -> [1 0]\n"
          ]
        }
      ]
    },
    {
      "cell_type": "code",
      "source": [
        "dataset['imc'].fillna(dataset['imc'].median(), inplace=True)"
      ],
      "metadata": {
        "id": "CcI0dnSihLiP"
      },
      "execution_count": 1113,
      "outputs": []
    },
    {
      "cell_type": "markdown",
      "source": [
        "# Correlacion entre variables"
      ],
      "metadata": {
        "id": "JYuQGF-xhrnm"
      }
    },
    {
      "cell_type": "code",
      "source": [
        "\"\"\"\n",
        "sns.heatmap(data=dataset.corr(), annot=True)\n",
        "\n",
        "fig=plt.gcf()\n",
        "fig.set_size_inches(20,12)\n",
        "plt.show()\n",
        "\"\"\""
      ],
      "metadata": {
        "colab": {
          "base_uri": "https://localhost:8080/",
          "height": 35
        },
        "id": "J73oDOB6htGM",
        "outputId": "c171f21d-3054-49e7-b13e-4464b84370e0"
      },
      "execution_count": 1114,
      "outputs": [
        {
          "output_type": "execute_result",
          "data": {
            "text/plain": [
              "'\\nsns.heatmap(data=dataset.corr(), annot=True)\\n\\nfig=plt.gcf()\\nfig.set_size_inches(20,12)\\nplt.show()\\n'"
            ],
            "application/vnd.google.colaboratory.intrinsic+json": {
              "type": "string"
            }
          },
          "metadata": {},
          "execution_count": 1114
        }
      ]
    },
    {
      "cell_type": "markdown",
      "source": [
        "# Identificamos Outliers"
      ],
      "metadata": {
        "id": "pMIWwMNzXihf"
      }
    },
    {
      "cell_type": "code",
      "source": [
        "dataset_numericas = dataset.select_dtypes('float64')\n",
        "\n",
        "plt.rcParams['figure.figsize'] = (21,21)\n",
        "for i, col in enumerate(dataset_numericas.columns, 1):\n",
        "    plt.subplot(3,3,i) \n",
        "    ax = sns.boxplot(y = col , x = \"apoplejia\", data = dataset)"
      ],
      "metadata": {
        "colab": {
          "base_uri": "https://localhost:8080/",
          "height": 404
        },
        "id": "xoeM0nv4XiDn",
        "outputId": "65b6f5ca-c927-4782-8a7c-765f6e84e645"
      },
      "execution_count": 1115,
      "outputs": [
        {
          "output_type": "display_data",
          "data": {
            "text/plain": [
              "<Figure size 2100x2100 with 3 Axes>"
            ],
            "image/png": "[encoded data removed]"
          },
          "metadata": {}
        }
      ]
    },
    {
      "cell_type": "markdown",
      "source": [
        "Vemos que para imc a partir de 80 se nota mucho que estan fuera de rango los valores, tambien en edad, de aproximadamente 10 para abajo lo mismo"
      ],
      "metadata": {
        "id": "deOdQMI4Xxs1"
      }
    },
    {
      "cell_type": "code",
      "source": [
        "dataset[dataset.imc >= 70]"
      ],
      "metadata": {
        "colab": {
          "base_uri": "https://localhost:8080/",
          "height": 207
        },
        "id": "R51_KFIQYIPM",
        "outputId": "f0a05055-3d79-495f-dfde-8ed7208f102d"
      },
      "execution_count": 1116,
      "outputs": [
        {
          "output_type": "execute_result",
          "data": {
            "text/plain": [
              "      genero  edad  hipertension  enfermedad_corazon  casado_alguna_vez  \\\n",
              "544        0  42.0             0                   0                  1   \n",
              "928        1  23.0             1                   0                  0   \n",
              "4209       0  38.0             1                   0                  1   \n",
              "\n",
              "      tipo_trabajo  tipo_residencia  nivel_glucosa   imc  estado_fumador  \\\n",
              "544              3                0         210.48  71.9               2   \n",
              "928              3                1          70.03  78.0               0   \n",
              "4209             3                0          56.90  92.0               2   \n",
              "\n",
              "      apoplejia  \n",
              "544           0  \n",
              "928           0  \n",
              "4209          0  "
            ],
            "text/html": [
              "\n",
              "  <div id=\"df-d0436e53-7bd6-4ffe-88ce-c208c294161f\">\n",
              "    <div class=\"colab-df-container\">\n",
              "      <div>\n",
              "<style scoped>\n",
              "    .dataframe tbody tr th:only-of-type {\n",
              "        vertical-align: middle;\n",
              "    }\n",
              "\n",
              "    .dataframe tbody tr th {\n",
              "        vertical-align: top;\n",
              "    }\n",
              "\n",
              "    .dataframe thead th {\n",
              "        text-align: right;\n",
              "    }\n",
              "</style>\n",
              "<table border=\"1\" class=\"dataframe\">\n",
              "  <thead>\n",
              "    <tr style=\"text-align: right;\">\n",
              "      <th></th>\n",
              "      <th>genero</th>\n",
              "      <th>edad</th>\n",
              "      <th>hipertension</th>\n",
              "      <th>enfermedad_corazon</th>\n",
              "      <th>casado_alguna_vez</th>\n",
              "      <th>tipo_trabajo</th>\n",
              "      <th>tipo_residencia</th>\n",
              "      <th>nivel_glucosa</th>\n",
              "      <th>imc</th>\n",
              "      <th>estado_fumador</th>\n",
              "      <th>apoplejia</th>\n",
              "    </tr>\n",
              "  </thead>\n",
              "  <tbody>\n",
              "    <tr>\n",
              "      <th>544</th>\n",
              "      <td>0</td>\n",
              "      <td>42.0</td>\n",
              "      <td>0</td>\n",
              "      <td>0</td>\n",
              "      <td>1</td>\n",
              "      <td>3</td>\n",
              "      <td>0</td>\n",
              "      <td>210.48</td>\n",
              "      <td>71.9</td>\n",
              "      <td>2</td>\n",
              "      <td>0</td>\n",
              "    </tr>\n",
              "    <tr>\n",
              "      <th>928</th>\n",
              "      <td>1</td>\n",
              "      <td>23.0</td>\n",
              "      <td>1</td>\n",
              "      <td>0</td>\n",
              "      <td>0</td>\n",
              "      <td>3</td>\n",
              "      <td>1</td>\n",
              "      <td>70.03</td>\n",
              "      <td>78.0</td>\n",
              "      <td>0</td>\n",
              "      <td>0</td>\n",
              "    </tr>\n",
              "    <tr>\n",
              "      <th>4209</th>\n",
              "      <td>0</td>\n",
              "      <td>38.0</td>\n",
              "      <td>1</td>\n",
              "      <td>0</td>\n",
              "      <td>1</td>\n",
              "      <td>3</td>\n",
              "      <td>0</td>\n",
              "      <td>56.90</td>\n",
              "      <td>92.0</td>\n",
              "      <td>2</td>\n",
              "      <td>0</td>\n",
              "    </tr>\n",
              "  </tbody>\n",
              "</table>\n",
              "</div>\n",
              "      <button class=\"colab-df-convert\" onclick=\"convertToInteractive('df-d0436e53-7bd6-4ffe-88ce-c208c294161f')\"\n",
              "              title=\"Convert this dataframe to an interactive table.\"\n",
              "              style=\"display:none;\">\n",
              "        \n",
              "  <svg xmlns=\"http://www.w3.org/2000/svg\" height=\"24px\"viewBox=\"0 0 24 24\"\n",
              "       width=\"24px\">\n",
              "    <path d=\"M0 0h24v24H0V0z\" fill=\"none\"/>\n",
              "    <path d=\"M18.56 5.44l.94 2.06.94-2.06 2.06-.94-2.06-.94-.94-2.06-.94 2.06-2.06.94zm-11 1L8.5 8.5l.94-2.06 2.06-.94-2.06-.94L8.5 2.5l-.94 2.06-2.06.94zm10 10l.94 2.06.94-2.06 2.06-.94-2.06-.94-.94-2.06-.94 2.06-2.06.94z\"/><path d=\"M17.41 7.96l-1.37-1.37c-.4-.4-.92-.59-1.43-.59-.52 0-1.04.2-1.43.59L10.3 9.45l-7.72 7.72c-.78.78-.78 2.05 0 2.83L4 21.41c.39.39.9.59 1.41.59.51 0 1.02-.2 1.41-.59l7.78-7.78 2.81-2.81c.8-.78.8-2.07 0-2.86zM5.41 20L4 18.59l7.72-7.72 1.47 1.35L5.41 20z\"/>\n",
              "  </svg>\n",
              "      </button>\n",
              "      \n",
              "  <style>\n",
              "    .colab-df-container {\n",
              "      display:flex;\n",
              "      flex-wrap:wrap;\n",
              "      gap: 12px;\n",
              "    }\n",
              "\n",
              "    .colab-df-convert {\n",
              "      background-color: #E8F0FE;\n",
              "      border: none;\n",
              "      border-radius: 50%;\n",
              "      cursor: pointer;\n",
              "      display: none;\n",
              "      fill: #1967D2;\n",
              "      height: 32px;\n",
              "      padding: 0 0 0 0;\n",
              "      width: 32px;\n",
              "    }\n",
              "\n",
              "    .colab-df-convert:hover {\n",
              "      background-color: #E2EBFA;\n",
              "      box-shadow: 0px 1px 2px rgba(60, 64, 67, 0.3), 0px 1px 3px 1px rgba(60, 64, 67, 0.15);\n",
              "      fill: #174EA6;\n",
              "    }\n",
              "\n",
              "    [theme=dark] .colab-df-convert {\n",
              "      background-color: #3B4455;\n",
              "      fill: #D2E3FC;\n",
              "    }\n",
              "\n",
              "    [theme=dark] .colab-df-convert:hover {\n",
              "      background-color: #434B5C;\n",
              "      box-shadow: 0px 1px 3px 1px rgba(0, 0, 0, 0.15);\n",
              "      filter: drop-shadow(0px 1px 2px rgba(0, 0, 0, 0.3));\n",
              "      fill: #FFFFFF;\n",
              "    }\n",
              "  </style>\n",
              "\n",
              "      <script>\n",
              "        const buttonEl =\n",
              "          document.querySelector('#df-d0436e53-7bd6-4ffe-88ce-c208c294161f button.colab-df-convert');\n",
              "        buttonEl.style.display =\n",
              "          google.colab.kernel.accessAllowed ? 'block' : 'none';\n",
              "\n",
              "        async function convertToInteractive(key) {\n",
              "          const element = document.querySelector('#df-d0436e53-7bd6-4ffe-88ce-c208c294161f');\n",
              "          const dataTable =\n",
              "            await google.colab.kernel.invokeFunction('convertToInteractive',\n",
              "                                                     [key], {});\n",
              "          if (!dataTable) return;\n",
              "\n",
              "          const docLinkHtml = 'Like what you see? Visit the ' +\n",
              "            '<a target=\"_blank\" href=https://colab.research.google.com/notebooks/data_table.ipynb>data table notebook</a>'\n",
              "            + ' to learn more about interactive tables.';\n",
              "          element.innerHTML = '';\n",
              "          dataTable['output_type'] = 'display_data';\n",
              "          await google.colab.output.renderOutput(dataTable, element);\n",
              "          const docLink = document.createElement('div');\n",
              "          docLink.innerHTML = docLinkHtml;\n",
              "          element.appendChild(docLink);\n",
              "        }\n",
              "      </script>\n",
              "    </div>\n",
              "  </div>\n",
              "  "
            ]
          },
          "metadata": {},
          "execution_count": 1116
        }
      ]
    },
    {
      "cell_type": "code",
      "source": [
        "# Eliminamos outliers\n",
        "dataset = dataset[dataset.imc <= 70]"
      ],
      "metadata": {
        "id": "nlsXyzIEX-UA"
      },
      "execution_count": 1117,
      "outputs": []
    },
    {
      "cell_type": "markdown",
      "source": [
        "# Entrenamiento y clasificacion"
      ],
      "metadata": {
        "id": "sy5NGBYRZqtT"
      }
    },
    {
      "cell_type": "code",
      "source": [
        "# Definimos la columna de salida, ya que hacemos un aprendizaje supervisado\n",
        "\n",
        "y = dataset['apoplejia']\n",
        "X = dataset.drop('apoplejia', axis=1)"
      ],
      "metadata": {
        "id": "b0QMK23tZjIH"
      },
      "execution_count": 1118,
      "outputs": []
    },
    {
      "cell_type": "code",
      "source": [
        "from imblearn.over_sampling import SMOTE\n",
        "\n",
        "# Aplicar SMOTE al conjunto de datos\n",
        "smote = SMOTE(random_state=42)\n",
        "X_resampled, y_resampled = smote.fit_resample(X, y)\n"
      ],
      "metadata": {
        "id": "QXnnKSxijdwO"
      },
      "execution_count": 1119,
      "outputs": []
    },
    {
      "cell_type": "code",
      "source": [
        "# Dividimos el dataset en dos, entrenamiento y test\n",
        "\n",
        "#X_train, X_test, y_train, y_test = train_test_split(X, y, test_size=0.3, shuffle=True, random_state=1)\n",
        "X_train, X_test, y_train, y_test = train_test_split(X_resampled, y_resampled, test_size=0.3, shuffle=True, random_state=1)\n",
        "\n",
        "# shuffle mezcla los datos, anteriormente ya lo habiamos hecho, pero no esta de mas"
      ],
      "metadata": {
        "id": "scTArluLZxCq"
      },
      "execution_count": 1120,
      "outputs": []
    },
    {
      "cell_type": "code",
      "source": [
        "# DataFrame para una evaluación general al final\n",
        "model_performance = pd.DataFrame(columns=['Accuracy','Recall','Precision','F1-Score','MCC score','Time to Train','Time to Predict','Total Time'])"
      ],
      "metadata": {
        "id": "u48IJEzwZz24"
      },
      "execution_count": 1121,
      "outputs": []
    },
    {
      "cell_type": "code",
      "source": [
        "def muestra_metricas(model_name, y_test, y_predic, start_time=None, end_train_time=None, end_predict_time=None):\n",
        "    \"\"\"\n",
        "    Función simple para personalizar las métrica a imprimir para cada modelo analizado.\n",
        "    model_name: string con el nombre del modelo\n",
        "    y_test: recibe el vector de salida real\n",
        "    y_predic: recibe el vector de salida predicho por el modelo\n",
        "    \"\"\"\n",
        "\n",
        "    accuracy = accuracy_score(y_test, y_predic)\n",
        "    recall = recall_score(y_test, y_predic, average='weighted') # average permite definir cómo se computan estas métricas para múltiples clases de salida\n",
        "    precision = precision_score(y_test, y_predic, average='weighted')\n",
        "    f1s = f1_score(y_test, y_predic, average='weighted')\n",
        "    MCC = matthews_corrcoef(y_test, y_predic)\n",
        "\n",
        "    print(\"#######################################\")\n",
        "    print(\"Accuracy: \"+ \"{:.2%}\".format(accuracy))\n",
        "    print(\"Recall: \"+ \"{:.2%}\".format(recall))\n",
        "    print(\"Precision: \"+ \"{:.2%}\".format(precision))\n",
        "    print(\"F1-Score: \"+ \"{:.2%}\".format(f1s))\n",
        "    print(\"MCC: \"+ \"{:.2%}\".format(MCC))    # Matthews correlation coefficient: https://scikit-learn.org/stable/modules/generated/sklearn.metrics.matthews_corrcoef.html\n",
        "\n",
        "    if (start_time != None and end_train_time != None and end_predict_time != None):\n",
        "        print(\"Tiempo de entrenamiento: {:.4f} s\".format(end_train_time-start_time))\n",
        "        print(\"Tiempo de predicción: {:.4f} s\".format(end_predict_time-end_train_time))\n",
        "        print(\"Tiempo total: {:.4f} s\".format(end_predict_time-start_time))\n",
        "    \n",
        "    print(\"#######################################\")\n",
        "    model_performance.loc[model_name] = [accuracy, recall, precision, f1s, MCC, end_train_time-start_time, end_predict_time-end_train_time, end_predict_time-start_time]\n",
        "\n",
        "\n",
        "def plot_confusion_matrix(y_true, y_preds, labels=None, model_name=None, normalize=None):\n",
        "    \"\"\"\n",
        "    Función para graficar la Matrix de confusión\n",
        "    y_true: vector de salida real\n",
        "    y_predic: vector de salida predicho por el modelo\n",
        "    labels: opcional, para nombrar las clases. Lista con strings\n",
        "    model_name: opcional, para poner un título al gráfico\n",
        "    normalize: {'true', 'pred', 'all'}, default=None\n",
        "        Normalizes confusion matrix over the true (rows), predicted (columns)\n",
        "        conditions or all the population. If None, confusion matrix will not be\n",
        "        normalized.\n",
        "    \"\"\"\n",
        "    if normalize:\n",
        "        cm = confusion_matrix(y_true, y_preds, normalize=normalize)\n",
        "    else:\n",
        "        cm = confusion_matrix(y_true, y_preds)\n",
        "    cmd = ConfusionMatrixDisplay(cm, display_labels=labels)\n",
        "    cmd.plot()\n",
        "    cmd.ax_.set(xlabel='Clase Predicha', ylabel='Clase Real')\n",
        "    if model_name:\n",
        "        cmd.ax_.set(title=model_name)"
      ],
      "metadata": {
        "id": "vYxFd2w-aGxT"
      },
      "execution_count": 1122,
      "outputs": []
    },
    {
      "cell_type": "markdown",
      "source": [
        "# Regresion logistica"
      ],
      "metadata": {
        "id": "N0eGx8EzaNh-"
      }
    },
    {
      "cell_type": "code",
      "source": [
        "start = time.time() # Estampa de tiempo para computar métricas\n",
        "\n",
        "# Entrenamiento\n",
        "lr_clf = LogisticRegression()\n",
        "lr_clf.fit(X_train, y_train)\n",
        "end_train = time.time()\n",
        "\n",
        "# Predicciones\n",
        "pred_lr = lr_clf.predict(X_test)\n",
        "end_predict = time.time()\n",
        "\n",
        "print(\"Classification Report: \\n\", classification_report(y_test, pred_lr))\n",
        "muestra_metricas(\"LogisticRegression\", y_test, pred_lr, start, end_train, end_predict)"
      ],
      "metadata": {
        "colab": {
          "base_uri": "https://localhost:8080/"
        },
        "id": "CHVYmQX4aKGE",
        "outputId": "c0e70a9b-eb05-4053-d588-6b6edd44eee3"
      },
      "execution_count": 1123,
      "outputs": [
        {
          "output_type": "stream",
          "name": "stdout",
          "text": [
            "Classification Report: \n",
            "               precision    recall  f1-score   support\n",
            "\n",
            "           0       0.83      0.80      0.81      1005\n",
            "           1       0.81      0.83      0.82      1003\n",
            "\n",
            "    accuracy                           0.82      2008\n",
            "   macro avg       0.82      0.82      0.82      2008\n",
            "weighted avg       0.82      0.82      0.82      2008\n",
            "\n",
            "#######################################\n",
            "Accuracy: 81.52%\n",
            "Recall: 81.52%\n",
            "Precision: 81.55%\n",
            "F1-Score: 81.52%\n",
            "MCC: 63.08%\n",
            "Tiempo de entrenamiento: 0.0621 s\n",
            "Tiempo de predicción: 0.0019 s\n",
            "Tiempo total: 0.0641 s\n",
            "#######################################\n"
          ]
        },
        {
          "output_type": "stream",
          "name": "stderr",
          "text": [
            "/usr/local/lib/python3.9/dist-packages/sklearn/linear_model/_logistic.py:458: ConvergenceWarning: lbfgs failed to converge (status=1):\n",
            "STOP: TOTAL NO. of ITERATIONS REACHED LIMIT.\n",
            "\n",
            "Increase the number of iterations (max_iter) or scale the data as shown in:\n",
            "    https://scikit-learn.org/stable/modules/preprocessing.html\n",
            "Please also refer to the documentation for alternative solver options:\n",
            "    https://scikit-learn.org/stable/modules/linear_model.html#logistic-regression\n",
            "  n_iter_i = _check_optimize_result(\n"
          ]
        }
      ]
    },
    {
      "cell_type": "code",
      "source": [
        "# Gráfica de la Matriz de confusión\n",
        "plot_confusion_matrix(y_test, pred_lr, labels=[\"Apoplejia\", \"No Apoplejia\"], model_name=\"Regresión Logística\")"
      ],
      "metadata": {
        "colab": {
          "base_uri": "https://localhost:8080/",
          "height": 1000
        },
        "id": "u1Kuuwigvhew",
        "outputId": "3ade1814-3ebc-454c-a21c-f28e0d3c439b"
      },
      "execution_count": 1131,
      "outputs": [
        {
          "output_type": "display_data",
          "data": {
            "text/plain": [
              "<Figure size 2100x2100 with 2 Axes>"
            ],
            "image/png": "[encoded data removed]"
          },
          "metadata": {}
        }
      ]
    },
    {
      "cell_type": "markdown",
      "source": [
        "# Arbol de desicion"
      ],
      "metadata": {
        "id": "D-Ul8SR2meMH"
      }
    },
    {
      "cell_type": "code",
      "source": [
        "start = time.time() # Estampa de tiempo para computar métricas\n",
        "\n",
        "# Entrenamiento\n",
        "tree_clf = DecisionTreeClassifier(random_state=1)\n",
        "tree_clf.fit(X_train, y_train)\n",
        "end_train = time.time()\n",
        "\n",
        "# Predicciones\n",
        "pred_tree = tree_clf.predict(X_test)\n",
        "end_predict = time.time()\n",
        "\n",
        "print(\"Classification Report: \\n\", classification_report(y_test, pred_tree))\n",
        "muestra_metricas(\"DecisionTreeClassifier\", y_test, pred_tree, start, end_train, end_predict)"
      ],
      "metadata": {
        "colab": {
          "base_uri": "https://localhost:8080/"
        },
        "id": "nbxatR99mfzE",
        "outputId": "93f7cfbb-e587-4011-98ea-c570ba3b9305"
      },
      "execution_count": 1124,
      "outputs": [
        {
          "output_type": "stream",
          "name": "stdout",
          "text": [
            "Classification Report: \n",
            "               precision    recall  f1-score   support\n",
            "\n",
            "           0       0.92      0.88      0.90      1005\n",
            "           1       0.88      0.92      0.90      1003\n",
            "\n",
            "    accuracy                           0.90      2008\n",
            "   macro avg       0.90      0.90      0.90      2008\n",
            "weighted avg       0.90      0.90      0.90      2008\n",
            "\n",
            "#######################################\n",
            "Accuracy: 89.94%\n",
            "Recall: 89.94%\n",
            "Precision: 90.03%\n",
            "F1-Score: 89.93%\n",
            "MCC: 79.97%\n",
            "Tiempo de entrenamiento: 0.0220 s\n",
            "Tiempo de predicción: 0.0021 s\n",
            "Tiempo total: 0.0240 s\n",
            "#######################################\n"
          ]
        }
      ]
    },
    {
      "cell_type": "markdown",
      "source": [
        "# Random Forest"
      ],
      "metadata": {
        "id": "AAfdp6OCbSKy"
      }
    },
    {
      "cell_type": "code",
      "source": [
        "start = time.time() # Estampa de tiempo para computar métricas\n",
        "\n",
        "# Definir los pesos de clase\n",
        "weights = {0: 1.0, 1: 1.0}\n",
        "\n",
        "# Entrenamos el modelo\n",
        "# Creamos el modelo de RandomForestClassifier con 100 árboles\n",
        "rfc = RandomForestClassifier(n_estimators=100, random_state=42, class_weight=weights)\n",
        "rfc.fit(X_train, y_train)\n",
        "\n",
        "end_train = time.time()\n",
        "\n",
        "# Predecimos sobre los datos de prueba\n",
        "y_pred = rfc.predict(X_test)\n",
        "end_predict = time.time()\n",
        "\n",
        "\n",
        "print(\"Classification Report: \\n\", classification_report(y_test, y_pred))\n",
        "muestra_metricas(\"RandomForest\", y_test, y_pred, start, end_train, end_predict)"
      ],
      "metadata": {
        "colab": {
          "base_uri": "https://localhost:8080/"
        },
        "id": "IV0HoL8vbTxX",
        "outputId": "fea8a729-d517-4f0f-e3f4-b86f28c02fd2"
      },
      "execution_count": 1125,
      "outputs": [
        {
          "output_type": "stream",
          "name": "stdout",
          "text": [
            "Classification Report: \n",
            "               precision    recall  f1-score   support\n",
            "\n",
            "           0       0.96      0.90      0.93      1005\n",
            "           1       0.91      0.96      0.93      1003\n",
            "\n",
            "    accuracy                           0.93      2008\n",
            "   macro avg       0.93      0.93      0.93      2008\n",
            "weighted avg       0.93      0.93      0.93      2008\n",
            "\n",
            "#######################################\n",
            "Accuracy: 93.18%\n",
            "Recall: 93.18%\n",
            "Precision: 93.33%\n",
            "F1-Score: 93.17%\n",
            "MCC: 86.50%\n",
            "Tiempo de entrenamiento: 0.5035 s\n",
            "Tiempo de predicción: 0.0350 s\n",
            "Tiempo total: 0.5385 s\n",
            "#######################################\n"
          ]
        }
      ]
    },
    {
      "cell_type": "markdown",
      "source": [
        "# K vecinos cercanos"
      ],
      "metadata": {
        "id": "Md44UAoWmpiV"
      }
    },
    {
      "cell_type": "code",
      "source": [
        "start = time.time() # Estampa de tiempo para computar métricas\n",
        "\n",
        "# Entrenamiento\n",
        "knn_clf = KNeighborsClassifier()\n",
        "knn_clf.fit(X_train, y_train)\n",
        "end_train = time.time()\n",
        "\n",
        "# Predicciones\n",
        "pred_knn = knn_clf.predict(X_test)\n",
        "end_predict = time.time()\n",
        "\n",
        "print(\"Classification Report: \\n\", classification_report(y_test, pred_knn))\n",
        "muestra_metricas(\"KNeighborsClassifier\", y_test, pred_knn, start, end_train, end_predict)"
      ],
      "metadata": {
        "colab": {
          "base_uri": "https://localhost:8080/"
        },
        "id": "idwnOylBmq-K",
        "outputId": "20fd36b4-1cba-40b1-ccb1-d0f2525b03f9"
      },
      "execution_count": 1126,
      "outputs": [
        {
          "output_type": "stream",
          "name": "stdout",
          "text": [
            "Classification Report: \n",
            "               precision    recall  f1-score   support\n",
            "\n",
            "           0       0.97      0.77      0.86      1005\n",
            "           1       0.81      0.98      0.89      1003\n",
            "\n",
            "    accuracy                           0.88      2008\n",
            "   macro avg       0.89      0.88      0.87      2008\n",
            "weighted avg       0.89      0.88      0.87      2008\n",
            "\n",
            "#######################################\n",
            "Accuracy: 87.50%\n",
            "Recall: 87.50%\n",
            "Precision: 89.10%\n",
            "F1-Score: 87.37%\n",
            "MCC: 76.59%\n",
            "Tiempo de entrenamiento: 0.0102 s\n",
            "Tiempo de predicción: 0.0441 s\n",
            "Tiempo total: 0.0544 s\n",
            "#######################################\n"
          ]
        }
      ]
    },
    {
      "cell_type": "markdown",
      "source": [
        "# XGB"
      ],
      "metadata": {
        "id": "4Sq9DsXDm0lQ"
      }
    },
    {
      "cell_type": "code",
      "source": [
        "# Si aparece: Invalid classes inferred from unique values of `y`.  Expected: [0 1 2 3], got [1 2 3 4]\n",
        "# Significa que este clasificador necesita que la codificación de las clases de salida comiencen por 0\n",
        "# Esta transformación la podemos realizar de manera sencilla\n",
        "\n",
        "le = LabelEncoder()\n",
        "y_train_transformed = le.fit_transform(y_train)\n",
        "\n",
        "# El la salida para test también debería de transformarse, sino se comprara cosas distintas\n",
        "y_test_transformed = le.fit_transform(y_test)"
      ],
      "metadata": {
        "id": "qi-3rxBGms7d"
      },
      "execution_count": 1127,
      "outputs": []
    },
    {
      "cell_type": "code",
      "source": [
        "start = time.time() # Estampa de tiempo para computar métricas\n",
        "\n",
        "# Entrenamiento\n",
        "xgbc_clf = XGBClassifier()\n",
        "xgbc_clf.fit(X_train, y_train_transformed)\n",
        "end_train = time.time()\n",
        "\n",
        "# Predicciones\n",
        "pred_xgbc = xgbc_clf.predict(X_test)\n",
        "end_predict = time.time()\n",
        "\n",
        "print(\"Classification Report: \\n\", classification_report(y_test_transformed, pred_xgbc))\n",
        "muestra_metricas(\"XGBClassifier\", y_test_transformed, pred_xgbc, start, end_train, end_predict)"
      ],
      "metadata": {
        "colab": {
          "base_uri": "https://localhost:8080/"
        },
        "id": "IZ1izUeHmw4S",
        "outputId": "bb43c211-673d-4831-a986-82205cc72e1d"
      },
      "execution_count": 1128,
      "outputs": [
        {
          "output_type": "stream",
          "name": "stdout",
          "text": [
            "Classification Report: \n",
            "               precision    recall  f1-score   support\n",
            "\n",
            "           0       0.96      0.94      0.95      1005\n",
            "           1       0.94      0.96      0.95      1003\n",
            "\n",
            "    accuracy                           0.95      2008\n",
            "   macro avg       0.95      0.95      0.95      2008\n",
            "weighted avg       0.95      0.95      0.95      2008\n",
            "\n",
            "#######################################\n",
            "Accuracy: 94.67%\n",
            "Recall: 94.67%\n",
            "Precision: 94.69%\n",
            "F1-Score: 94.67%\n",
            "MCC: 89.37%\n",
            "Tiempo de entrenamiento: 0.3117 s\n",
            "Tiempo de predicción: 0.0056 s\n",
            "Tiempo total: 0.3173 s\n",
            "#######################################\n"
          ]
        }
      ]
    },
    {
      "cell_type": "markdown",
      "source": [
        "# Red Neuronal"
      ],
      "metadata": {
        "id": "cYY73xPRraOD"
      }
    },
    {
      "cell_type": "code",
      "source": [
        "start = time.time() # Estampa de tiempo para computar métricas\n",
        "\n",
        "# Entrenamiento\n",
        "# Por ahora... un perceptrón multicapa simple, después vemos topologías complejas\n",
        "nn_clf = MLPClassifier((50,))  # hidden_layer_sizes : tuple, length = n_layers - 2, default=(100,)\n",
        "                                # The ith element represents the number of neurons in the ith hidden layer.\n",
        "nn_clf.fit(X_train, y_train)\n",
        "end_train = time.time()\n",
        "\n",
        "# Predicciones\n",
        "pred_nn = nn_clf.predict(X_test)\n",
        "end_predict = time.time()\n",
        "\n",
        "print(\"Classification Report: \\n\", classification_report(y_test, pred_nn))\n",
        "muestra_metricas(\"Multi-layer Perceptron classifier\", y_test, pred_nn, start, end_train, end_predict)"
      ],
      "metadata": {
        "colab": {
          "base_uri": "https://localhost:8080/"
        },
        "id": "zRe-SZ5em25C",
        "outputId": "702dcb33-be33-4128-cda5-450d7c7f8ff0"
      },
      "execution_count": 1129,
      "outputs": [
        {
          "output_type": "stream",
          "name": "stdout",
          "text": [
            "Classification Report: \n",
            "               precision    recall  f1-score   support\n",
            "\n",
            "           0       0.87      0.67      0.76      1005\n",
            "           1       0.73      0.90      0.81      1003\n",
            "\n",
            "    accuracy                           0.79      2008\n",
            "   macro avg       0.80      0.79      0.78      2008\n",
            "weighted avg       0.80      0.79      0.78      2008\n",
            "\n",
            "#######################################\n",
            "Accuracy: 78.74%\n",
            "Recall: 78.74%\n",
            "Precision: 80.32%\n",
            "F1-Score: 78.46%\n",
            "MCC: 59.04%\n",
            "Tiempo de entrenamiento: 1.1116 s\n",
            "Tiempo de predicción: 0.0024 s\n",
            "Tiempo total: 1.1140 s\n",
            "#######################################\n"
          ]
        }
      ]
    },
    {
      "cell_type": "markdown",
      "source": [
        "# Comparacion de modelos"
      ],
      "metadata": {
        "id": "Pt8ozpZsrhTY"
      }
    },
    {
      "cell_type": "code",
      "source": [
        "model_performance.fillna(.90,inplace=True)\n",
        "model_performance.style.background_gradient(cmap='coolwarm').format({'Accuracy': '{:.2%}',\n",
        "                                                                     'Precision': '{:.2%}',\n",
        "                                                                     'Recall': '{:.2%}',\n",
        "                                                                     'F1-Score': '{:.2%}',\n",
        "                                                                     'MCC score': '{:.2%}',\n",
        "                                                                     'Time to Train':'{:.3f}',\n",
        "                                                                     'Time to Predict':'{:.3f}',\n",
        "                                                                     'Total Time':'{:.3f}',\n",
        "                                                                     })"
      ],
      "metadata": {
        "colab": {
          "base_uri": "https://localhost:8080/",
          "height": 238
        },
        "id": "tLYKGKMcrjRp",
        "outputId": "012f38cb-cd74-4010-92ba-9f829a2247ad"
      },
      "execution_count": 1130,
      "outputs": [
        {
          "output_type": "execute_result",
          "data": {
            "text/plain": [
              "<pandas.io.formats.style.Styler at 0x7f5a949d9850>"
            ],
            "text/html": [
              "<style type=\"text/css\">\n",
              "#T_13995_row0_col0, #T_13995_row0_col1 {\n",
              "  background-color: #7295f4;\n",
              "  color: #f1f1f1;\n",
              "}\n",
              "#T_13995_row0_col2, #T_13995_row4_col6 {\n",
              "  background-color: #5572df;\n",
              "  color: #f1f1f1;\n",
              "}\n",
              "#T_13995_row0_col3 {\n",
              "  background-color: #779af7;\n",
              "  color: #f1f1f1;\n",
              "}\n",
              "#T_13995_row0_col4 {\n",
              "  background-color: #6485ec;\n",
              "  color: #f1f1f1;\n",
              "}\n",
              "#T_13995_row0_col5 {\n",
              "  background-color: #4961d2;\n",
              "  color: #f1f1f1;\n",
              "}\n",
              "#T_13995_row0_col6, #T_13995_row1_col6, #T_13995_row1_col7, #T_13995_row3_col5, #T_13995_row5_col0, #T_13995_row5_col1, #T_13995_row5_col2, #T_13995_row5_col3, #T_13995_row5_col4 {\n",
              "  background-color: #3b4cc0;\n",
              "  color: #f1f1f1;\n",
              "}\n",
              "#T_13995_row0_col7 {\n",
              "  background-color: #455cce;\n",
              "  color: #f1f1f1;\n",
              "}\n",
              "#T_13995_row1_col0, #T_13995_row1_col1 {\n",
              "  background-color: #f7ac8e;\n",
              "  color: #000000;\n",
              "}\n",
              "#T_13995_row1_col2 {\n",
              "  background-color: #f7b599;\n",
              "  color: #000000;\n",
              "}\n",
              "#T_13995_row1_col3 {\n",
              "  background-color: #f7a98b;\n",
              "  color: #000000;\n",
              "}\n",
              "#T_13995_row1_col4 {\n",
              "  background-color: #f7b093;\n",
              "  color: #000000;\n",
              "}\n",
              "#T_13995_row1_col5, #T_13995_row5_col6 {\n",
              "  background-color: #3d50c3;\n",
              "  color: #f1f1f1;\n",
              "}\n",
              "#T_13995_row2_col0, #T_13995_row2_col1, #T_13995_row2_col2, #T_13995_row2_col4 {\n",
              "  background-color: #d55042;\n",
              "  color: #f1f1f1;\n",
              "}\n",
              "#T_13995_row2_col3 {\n",
              "  background-color: #d44e41;\n",
              "  color: #f1f1f1;\n",
              "}\n",
              "#T_13995_row2_col5 {\n",
              "  background-color: #cedaeb;\n",
              "  color: #000000;\n",
              "}\n",
              "#T_13995_row2_col6 {\n",
              "  background-color: #f08b6e;\n",
              "  color: #f1f1f1;\n",
              "}\n",
              "#T_13995_row2_col7 {\n",
              "  background-color: #d5dbe5;\n",
              "  color: #000000;\n",
              "}\n",
              "#T_13995_row3_col0, #T_13995_row3_col1, #T_13995_row3_col3 {\n",
              "  background-color: #e9d5cb;\n",
              "  color: #000000;\n",
              "}\n",
              "#T_13995_row3_col2 {\n",
              "  background-color: #f3c8b2;\n",
              "  color: #000000;\n",
              "}\n",
              "#T_13995_row3_col4 {\n",
              "  background-color: #efcfbf;\n",
              "  color: #000000;\n",
              "}\n",
              "#T_13995_row3_col6, #T_13995_row4_col0, #T_13995_row4_col1, #T_13995_row4_col2, #T_13995_row4_col3, #T_13995_row4_col4, #T_13995_row5_col5, #T_13995_row5_col7 {\n",
              "  background-color: #b40426;\n",
              "  color: #f1f1f1;\n",
              "}\n",
              "#T_13995_row3_col7 {\n",
              "  background-color: #4358cb;\n",
              "  color: #f1f1f1;\n",
              "}\n",
              "#T_13995_row4_col5 {\n",
              "  background-color: #96b7ff;\n",
              "  color: #000000;\n",
              "}\n",
              "#T_13995_row4_col7 {\n",
              "  background-color: #93b5fe;\n",
              "  color: #000000;\n",
              "}\n",
              "</style>\n",
              "<table id=\"T_13995\" class=\"dataframe\">\n",
              "  <thead>\n",
              "    <tr>\n",
              "      <th class=\"blank level0\" >&nbsp;</th>\n",
              "      <th id=\"T_13995_level0_col0\" class=\"col_heading level0 col0\" >Accuracy</th>\n",
              "      <th id=\"T_13995_level0_col1\" class=\"col_heading level0 col1\" >Recall</th>\n",
              "      <th id=\"T_13995_level0_col2\" class=\"col_heading level0 col2\" >Precision</th>\n",
              "      <th id=\"T_13995_level0_col3\" class=\"col_heading level0 col3\" >F1-Score</th>\n",
              "      <th id=\"T_13995_level0_col4\" class=\"col_heading level0 col4\" >MCC score</th>\n",
              "      <th id=\"T_13995_level0_col5\" class=\"col_heading level0 col5\" >Time to Train</th>\n",
              "      <th id=\"T_13995_level0_col6\" class=\"col_heading level0 col6\" >Time to Predict</th>\n",
              "      <th id=\"T_13995_level0_col7\" class=\"col_heading level0 col7\" >Total Time</th>\n",
              "    </tr>\n",
              "  </thead>\n",
              "  <tbody>\n",
              "    <tr>\n",
              "      <th id=\"T_13995_level0_row0\" class=\"row_heading level0 row0\" >LogisticRegression</th>\n",
              "      <td id=\"T_13995_row0_col0\" class=\"data row0 col0\" >81.52%</td>\n",
              "      <td id=\"T_13995_row0_col1\" class=\"data row0 col1\" >81.52%</td>\n",
              "      <td id=\"T_13995_row0_col2\" class=\"data row0 col2\" >81.55%</td>\n",
              "      <td id=\"T_13995_row0_col3\" class=\"data row0 col3\" >81.52%</td>\n",
              "      <td id=\"T_13995_row0_col4\" class=\"data row0 col4\" >63.08%</td>\n",
              "      <td id=\"T_13995_row0_col5\" class=\"data row0 col5\" >0.062</td>\n",
              "      <td id=\"T_13995_row0_col6\" class=\"data row0 col6\" >0.002</td>\n",
              "      <td id=\"T_13995_row0_col7\" class=\"data row0 col7\" >0.064</td>\n",
              "    </tr>\n",
              "    <tr>\n",
              "      <th id=\"T_13995_level0_row1\" class=\"row_heading level0 row1\" >DecisionTreeClassifier</th>\n",
              "      <td id=\"T_13995_row1_col0\" class=\"data row1 col0\" >89.94%</td>\n",
              "      <td id=\"T_13995_row1_col1\" class=\"data row1 col1\" >89.94%</td>\n",
              "      <td id=\"T_13995_row1_col2\" class=\"data row1 col2\" >90.03%</td>\n",
              "      <td id=\"T_13995_row1_col3\" class=\"data row1 col3\" >89.93%</td>\n",
              "      <td id=\"T_13995_row1_col4\" class=\"data row1 col4\" >79.97%</td>\n",
              "      <td id=\"T_13995_row1_col5\" class=\"data row1 col5\" >0.022</td>\n",
              "      <td id=\"T_13995_row1_col6\" class=\"data row1 col6\" >0.002</td>\n",
              "      <td id=\"T_13995_row1_col7\" class=\"data row1 col7\" >0.024</td>\n",
              "    </tr>\n",
              "    <tr>\n",
              "      <th id=\"T_13995_level0_row2\" class=\"row_heading level0 row2\" >RandomForest</th>\n",
              "      <td id=\"T_13995_row2_col0\" class=\"data row2 col0\" >93.18%</td>\n",
              "      <td id=\"T_13995_row2_col1\" class=\"data row2 col1\" >93.18%</td>\n",
              "      <td id=\"T_13995_row2_col2\" class=\"data row2 col2\" >93.33%</td>\n",
              "      <td id=\"T_13995_row2_col3\" class=\"data row2 col3\" >93.17%</td>\n",
              "      <td id=\"T_13995_row2_col4\" class=\"data row2 col4\" >86.50%</td>\n",
              "      <td id=\"T_13995_row2_col5\" class=\"data row2 col5\" >0.504</td>\n",
              "      <td id=\"T_13995_row2_col6\" class=\"data row2 col6\" >0.035</td>\n",
              "      <td id=\"T_13995_row2_col7\" class=\"data row2 col7\" >0.538</td>\n",
              "    </tr>\n",
              "    <tr>\n",
              "      <th id=\"T_13995_level0_row3\" class=\"row_heading level0 row3\" >KNeighborsClassifier</th>\n",
              "      <td id=\"T_13995_row3_col0\" class=\"data row3 col0\" >87.50%</td>\n",
              "      <td id=\"T_13995_row3_col1\" class=\"data row3 col1\" >87.50%</td>\n",
              "      <td id=\"T_13995_row3_col2\" class=\"data row3 col2\" >89.10%</td>\n",
              "      <td id=\"T_13995_row3_col3\" class=\"data row3 col3\" >87.37%</td>\n",
              "      <td id=\"T_13995_row3_col4\" class=\"data row3 col4\" >76.59%</td>\n",
              "      <td id=\"T_13995_row3_col5\" class=\"data row3 col5\" >0.010</td>\n",
              "      <td id=\"T_13995_row3_col6\" class=\"data row3 col6\" >0.044</td>\n",
              "      <td id=\"T_13995_row3_col7\" class=\"data row3 col7\" >0.054</td>\n",
              "    </tr>\n",
              "    <tr>\n",
              "      <th id=\"T_13995_level0_row4\" class=\"row_heading level0 row4\" >XGBClassifier</th>\n",
              "      <td id=\"T_13995_row4_col0\" class=\"data row4 col0\" >94.67%</td>\n",
              "      <td id=\"T_13995_row4_col1\" class=\"data row4 col1\" >94.67%</td>\n",
              "      <td id=\"T_13995_row4_col2\" class=\"data row4 col2\" >94.69%</td>\n",
              "      <td id=\"T_13995_row4_col3\" class=\"data row4 col3\" >94.67%</td>\n",
              "      <td id=\"T_13995_row4_col4\" class=\"data row4 col4\" >89.37%</td>\n",
              "      <td id=\"T_13995_row4_col5\" class=\"data row4 col5\" >0.312</td>\n",
              "      <td id=\"T_13995_row4_col6\" class=\"data row4 col6\" >0.006</td>\n",
              "      <td id=\"T_13995_row4_col7\" class=\"data row4 col7\" >0.317</td>\n",
              "    </tr>\n",
              "    <tr>\n",
              "      <th id=\"T_13995_level0_row5\" class=\"row_heading level0 row5\" >Multi-layer Perceptron classifier</th>\n",
              "      <td id=\"T_13995_row5_col0\" class=\"data row5 col0\" >78.74%</td>\n",
              "      <td id=\"T_13995_row5_col1\" class=\"data row5 col1\" >78.74%</td>\n",
              "      <td id=\"T_13995_row5_col2\" class=\"data row5 col2\" >80.32%</td>\n",
              "      <td id=\"T_13995_row5_col3\" class=\"data row5 col3\" >78.46%</td>\n",
              "      <td id=\"T_13995_row5_col4\" class=\"data row5 col4\" >59.04%</td>\n",
              "      <td id=\"T_13995_row5_col5\" class=\"data row5 col5\" >1.112</td>\n",
              "      <td id=\"T_13995_row5_col6\" class=\"data row5 col6\" >0.002</td>\n",
              "      <td id=\"T_13995_row5_col7\" class=\"data row5 col7\" >1.114</td>\n",
              "    </tr>\n",
              "  </tbody>\n",
              "</table>\n"
            ]
          },
          "metadata": {},
          "execution_count": 1130
        }
      ]
    },
    {
      "cell_type": "code",
      "source": [],
      "metadata": {
        "id": "B-ICmowqrkO4"
      },
      "execution_count": 1130,
      "outputs": []
    }
  ]
}