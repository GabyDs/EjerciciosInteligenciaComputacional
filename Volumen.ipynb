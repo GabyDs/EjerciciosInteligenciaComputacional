{
  "nbformat": 4,
  "nbformat_minor": 0,
  "metadata": {
    "colab": {
      "provenance": [],
      "collapsed_sections": [
        "9P-C1ENc6rbU"
      ],
      "include_colab_link": true
    },
    "kernelspec": {
      "name": "python3",
      "display_name": "Python 3"
    },
    "language_info": {
      "name": "python"
    }
  },
  "cells": [
    {
      "cell_type": "markdown",
      "metadata": {
        "id": "view-in-github",
        "colab_type": "text"
      },
      "source": [
        "<a href=\"https://colab.research.google.com/github/GabyDs/EjerciciosInteligenciaComputacional/blob/main/Volumen.ipynb\" target=\"_parent\"><img src=\"https://colab.research.google.com/assets/colab-badge.svg\" alt=\"Open In Colab\"/></a>"
      ]
    },
    {
      "cell_type": "code",
      "execution_count": 115,
      "metadata": {
        "id": "P1zskckc6OrX"
      },
      "outputs": [],
      "source": [
        "import numpy as np"
      ]
    },
    {
      "cell_type": "code",
      "source": [
        "# Numero de iteraciones\n",
        "N = 100000000\n",
        "# Numero de puntos dentro de la figura\n",
        "dentro = 0\n",
        "# Volumen total de la figura\n",
        "volumen_total = 0\n",
        "\n",
        "# Definimos el radio del cilindro\n",
        "RADIO_CILINDRO = 0.5\n",
        "# Definimos el radio de la esfera\n",
        "RADIO_ESFERA = 0.5\n",
        "# Definimos los limites del eje Z\n",
        "Z_MIN = -0.5\n",
        "Z_MAX = 2\n",
        "\n",
        "# Definimos 3 arrays con las coordenadas x,y,z\n",
        "x = np.random.uniform(-RADIO_ESFERA, RADIO_ESFERA, N)\n",
        "y = np.random.uniform(-RADIO_ESFERA, RADIO_ESFERA, N)\n",
        "z = np.random.uniform(Z_MIN, Z_MAX, N)"
      ],
      "metadata": {
        "id": "zSwpAq3s-2qa"
      },
      "execution_count": 116,
      "outputs": []
    },
    {
      "cell_type": "code",
      "source": [
        "# Funcion que separa los puntos en la coordenada z, perteneciente a cada\n",
        "# parte de la figura\n",
        "\n",
        "def FiltrarPuntos(z):\n",
        "  return z[z <= 0], z[(z > 0) & (z <= 1)], z[(z > 1) & (z <= 2)]"
      ],
      "metadata": {
        "id": "0FW1UBgvqtg-"
      },
      "execution_count": 117,
      "outputs": []
    },
    {
      "cell_type": "code",
      "source": [
        "# Funcion que devuelve la distancia de los puntos al origen o al eje\n",
        "# del cilindro\n",
        "\n",
        "def DistanciaAlOrigen(x, y, z=0):\n",
        "  suma_cuadrados = x**2 + y**2 + z**2\n",
        "  distancia_origen = np.sqrt(suma_cuadrados)\n",
        "  return distancia_origen"
      ],
      "metadata": {
        "id": "4lyEiT_PrsCL"
      },
      "execution_count": 118,
      "outputs": []
    },
    {
      "cell_type": "code",
      "source": [
        "# Funcion que filtra los puntos dentro de la figura\n",
        "\n",
        "def PuntosDentroFigura(distancia, radio):\n",
        "  return distancia <= radio"
      ],
      "metadata": {
        "id": "LyLF8RkHsvJ8"
      },
      "execution_count": 119,
      "outputs": []
    },
    {
      "cell_type": "code",
      "source": [
        "# Funcion que calcula el rango angular, es decir\n",
        "# desde que angulo hasta que angulo esta definida la cuña\n",
        "\n",
        "def RangoAngular(x, y):\n",
        "  angulos = np.arctan2(y, x)\n",
        "  rango = (angulos >= 0) & (angulos <= np.pi/4)\n",
        "  return rango"
      ],
      "metadata": {
        "id": "iBBv92pMtOcO"
      },
      "execution_count": 120,
      "outputs": []
    },
    {
      "cell_type": "code",
      "source": [
        "# Funcion que filtra los puntos que estan dentro de la figura y fuera de la cuña\n",
        "\n",
        "def PuntosSinCuña(distancia, dentro_figura, rango, tapa=True):\n",
        "  return distancia[dentro_figura & ~ rango & tapa]"
      ],
      "metadata": {
        "id": "0R4CrUhkt8vB"
      },
      "execution_count": 121,
      "outputs": []
    },
    {
      "cell_type": "code",
      "source": [
        "# Funcion que calcula el volumen que contiene a cada parte de la figura\n",
        "\n",
        "def VolumenCubo(lado_x, lado_y, lado_z):\n",
        "  return lado_x * lado_y * lado_z"
      ],
      "metadata": {
        "id": "hG3XdSo5vDHA"
      },
      "execution_count": 122,
      "outputs": []
    },
    {
      "cell_type": "code",
      "source": [
        "# Funcion que calcula el volumen de cada parte de la figura\n",
        "\n",
        "def VolumenFigura(vol_cubo, dentro_fig, z_fig):\n",
        "  return vol_cubo * len(dentro_fig) / len(z_fig)"
      ],
      "metadata": {
        "id": "CPLsuxdLvjiH"
      },
      "execution_count": 123,
      "outputs": []
    },
    {
      "cell_type": "code",
      "source": [
        "# Funcion que obtiene los puntos que estan por debajo del plano \n",
        "# x + z = 1.5\n",
        "\n",
        "def DentroTapa(x, z):\n",
        "  return (x + z) <= 1.5"
      ],
      "metadata": {
        "id": "0hURAiQozrVK"
      },
      "execution_count": 124,
      "outputs": []
    },
    {
      "cell_type": "code",
      "source": [
        "# Comprobamos si esta en posicion de la esfera, del cilindro\n",
        "# o de la parte superior del cilindro, z<0 z>-0.5, z>0 z<1, z>1 z<2\n",
        "# para ello filtramos los puntos en el eje z, segun cada condicion\n",
        "\n",
        "z_esfera, z_cilindro_medio, z_cilindro_superior = FiltrarPuntos(z)\n",
        "\n",
        "# Limpiamos el volumen acumulado\n",
        "volumen_total = 0\n",
        "\n",
        "if np.all(z_esfera < 0):\n",
        "  # Filtramos las coordenadas x e y que pertenecen a z<0\n",
        "  x_esfera, y_esfera = x[z < 0], y[z < 0]\n",
        "\n",
        "  # Calculamos la distancia de los puntos al origen\n",
        "  distancia_origen = DistanciaAlOrigen(x_esfera, y_esfera, z_esfera)\n",
        "\n",
        "  # Obtenemos las posiciones de los puntos cuya distancia al origen es menor\n",
        "  # que el radio de la esfera, por ende, estan dentro de la misma\n",
        "  dentro_esfera = PuntosDentroFigura(distancia_origen, RADIO_ESFERA)\n",
        "\n",
        "  # Generamos un vector con los angulos generados por cada punto\n",
        "  # Ya que de 0 a 45º hay una cuña donde no deben caer los puntos y\n",
        "  # Filtramos los angulos generados, para obtener los que cayeron dentro de la\n",
        "  # cuña para luego poder omitirlos\n",
        "  rango_angular = RangoAngular(x_esfera, y_esfera)\n",
        "\n",
        "  # Filtramos los puntos que estan dentro de la esfera, y ademas que esten\n",
        "  # fuera del rango de 0 a 45º\n",
        "  puntos_dentro = PuntosSinCuña(distancia_origen, dentro_esfera, rango_angular)\n",
        "\n",
        "  # Calculamos el volumen del cubo que contiene a la esfera\n",
        "  volumen_cubo = VolumenCubo(1, 1, 0.5)\n",
        "\n",
        "  # Calculamos el volumen de la semiesfera, teniendo la proporcion de puntos que\n",
        "  # cayeron dentro, en relacion al volumen del cubo\n",
        "  volumen_semiesfera = VolumenFigura(volumen_cubo, puntos_dentro, z_esfera)\n",
        "\n",
        "  print(f\"Volumen semiesfera: {volumen_semiesfera}\")\n",
        "\n",
        "  volumen_total += volumen_semiesfera\n",
        "\n",
        "if np.all((z_cilindro_medio > 0) & (z_cilindro_medio <= 1)):\n",
        "  # Filtramos las coordenadas x e y que pertenecen a z > 0 y z <= 1\n",
        "  x_cilindro, y_cilindro = x[(z > 0) & (z <= 1)], y[(z > 0) & (z <= 1)]\n",
        "\n",
        "  # Calculamos la distancia de los puntos al eje\n",
        "  distancia_eje = DistanciaAlOrigen(x_cilindro, y_cilindro)\n",
        "\n",
        "  # Obtenemos las posiciones de los puntos cuya distancia al eje es menor\n",
        "  # que el radio del cilindro, por ende, estan dentro de la misma\n",
        "  dentro_cilindro = PuntosDentroFigura(distancia_eje, RADIO_CILINDRO)\n",
        "\n",
        "  # Generamos un vector con los angulos generados por cada punto\n",
        "  # Ya que de 0 a 45º hay una cuña donde no deben caer los puntos y\n",
        "  # Filtramos los angulos generados, para obtener los que cayeron dentro de la\n",
        "  # cuña para luego poder omitirlos\n",
        "  rango_angular = RangoAngular(x_cilindro, y_cilindro)\n",
        "\n",
        "  # Filtramos los puntos que estan dentro del cilindro, y ademas que esten\n",
        "  # fuera del rango de 0 a 45º\n",
        "  puntos_dentro = PuntosSinCuña(distancia_eje, dentro_cilindro, rango_angular)\n",
        "\n",
        "  # Calculamos el volumen del cubo que contiene al cilindro\n",
        "  volumen_cubo = VolumenCubo(1, 1, 1)\n",
        "\n",
        "  # Calculamos el volumen del cilindro, teniendo la proporcion de puntos que\n",
        "  # cayeron dentro, en relacion al volumen del cubo\n",
        "  volumen_cilindro = VolumenFigura(volumen_cubo, puntos_dentro, z_cilindro_medio)\n",
        "\n",
        "  print(f\"Volumen cilindro medio: {volumen_cilindro}\")\n",
        "\n",
        "  volumen_total += volumen_cilindro\n",
        "\n",
        "if (np.all((z_cilindro_superior > 1) & (z_cilindro_superior <= 2))):\n",
        "  # Filtramos las coordenadas x e y que pertenecen a z > 1 y z <= 2\n",
        "  x_cilindro, y_cilindro = x[(z > 1) & (z <= 2)], y[(z > 1) & (z <= 2)]\n",
        "\n",
        "  # Calculamos la distancia de los puntos al eje\n",
        "  distancia_eje = DistanciaAlOrigen(x_cilindro, y_cilindro)\n",
        "\n",
        "  # Obtenemos las posiciones de los puntos cuya distancia al eje es menor\n",
        "  # que el radio del cilindro, por ende, estan dentro de la misma\n",
        "  dentro_cilindro = PuntosDentroFigura(distancia_eje, RADIO_CILINDRO)\n",
        "\n",
        "  # Generamos un vector con los angulos generados por cada punto\n",
        "  # Ya que de 0 a 45º hay una cuña donde no deben caer los puntos y\n",
        "  # Filtramos los angulos generados, para obtener los que cayeron dentro de la\n",
        "  # cuña para luego poder omitirlos\n",
        "  rango_angular = RangoAngular(x_cilindro, y_cilindro)\n",
        "\n",
        "  # Filtramos los puntos que estan por debajo del plano el cual tomamos como\n",
        "  # tapa del cilindro\n",
        "  dentro_tapa = DentroTapa(x_cilindro, z_cilindro_superior)\n",
        "\n",
        "  # Filtramos los puntos que estan dentro del cilindro, y ademas que esten\n",
        "  # fuera del rango de 0 a 45º y debajo del plano\n",
        "  puntos_dentro = PuntosSinCuña(distancia_eje, dentro_cilindro, rango_angular, dentro_tapa)\n",
        "\n",
        "  # Calculamos el volumen del cubo que contiene al cilindro\n",
        "  volumen_cubo = VolumenCubo(1, 1, 1)\n",
        "\n",
        "  # Calculamos el volumen del cilindro, teniendo la proporcion de puntos que\n",
        "  # cayeron dentro, en relacion al volumen del cubo\n",
        "  volumen_cilindro = VolumenFigura(volumen_cubo, puntos_dentro, z_cilindro_superior)\n",
        "\n",
        "  print(f\"Volumen cilindro superior: {volumen_cilindro}\")\n",
        "\n",
        "  volumen_total += volumen_cilindro"
      ],
      "metadata": {
        "colab": {
          "base_uri": "https://localhost:8080/"
        },
        "id": "s6dTUvwq_cxj",
        "outputId": "457033e1-4dc2-4f75-9e49-7d5c4f6b3c0c"
      },
      "execution_count": 125,
      "outputs": [
        {
          "output_type": "stream",
          "name": "stdout",
          "text": [
            "Volumen semiesfera: 0.22904113366213674\n",
            "Volumen cilindro medio: 0.6873322457936375\n",
            "Volumen cilindro superior: 0.3730523905102774\n"
          ]
        }
      ]
    },
    {
      "cell_type": "code",
      "source": [
        "print(f\"Volumen de la figura completa: {volumen_total}\")"
      ],
      "metadata": {
        "colab": {
          "base_uri": "https://localhost:8080/"
        },
        "id": "n37p2uyo5O8-",
        "outputId": "1c97c450-fa6f-4760-b885-fe3508c73d90"
      },
      "execution_count": 126,
      "outputs": [
        {
          "output_type": "stream",
          "name": "stdout",
          "text": [
            "Volumen de la figura completa: 1.2894257699660516\n"
          ]
        }
      ]
    }
  ]
}